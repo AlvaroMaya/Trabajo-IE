{
 "cells": [
  {
   "cell_type": "markdown",
   "id": "4e05a862",
   "metadata": {},
   "source": [
    "# Actividad de evaluación: &nbsp;&nbsp;&nbsp;&nbsp;&nbsp;    21/03/2023\n",
    "# Introducción a Machine Learning con Python"
   ]
  },
  {
   "cell_type": "code",
   "execution_count": 1,
   "id": "522043dc",
   "metadata": {},
   "outputs": [],
   "source": [
    "#Importaciones\n",
    "\n",
    "#Tratamiento de dataset\n",
    "import pandas as pd\n",
    "import numpy as np\n",
    "\n",
    "#OneHotEncoder\n",
    "from sklearn.preprocessing import OneHotEncoder\n",
    "\n",
    "#Visualización\n",
    "import matplotlib.pyplot as plt\n",
    "import seaborn as sns\n",
    "\n",
    "#Métricas de evaluación\n",
    "from sklearn import metrics\n",
    "\n",
    "#Time\n",
    "import time\n",
    "import os\n",
    "import re"
   ]
  },
  {
   "cell_type": "markdown",
   "id": "0b164cbc",
   "metadata": {},
   "source": [
    "## Ejercicio 1: Lectura del data set y preprocesamiento\n",
    "### 1.1 Lectura del dataset\n",
    "Realizar la lectura del dataset e imprimir la información de sus columnas.<br>\n",
    "Mostrar por pantalla el contenido de las 5 primeras filas. <br>\n",
    "Mostrar una descripción de los estadísticos principales de la columnas numéricas."
   ]
  },
  {
   "cell_type": "code",
   "execution_count": 2,
   "id": "2d3123de",
   "metadata": {},
   "outputs": [],
   "source": [
    "BARC_DIA_LABORAL = pd.read_csv('./data/barcelona_weekdays.csv')\n",
    "BARC_DIA_LABORAL['weekends'] = 0"
   ]
  },
  {
   "cell_type": "code",
   "execution_count": 3,
   "id": "8710e07d",
   "metadata": {},
   "outputs": [],
   "source": [
    "BARC_DIA_LABORAL1 = BARC_DIA_LABORAL.drop(['room_shared', 'room_private', 'person_capacity', 'multi', 'biz',\n",
    "                                           'guest_satisfaction_overall', 'dist', 'metro_dist', 'attr_index',\n",
    "                                           'attr_index_norm', 'rest_index', 'rest_index_norm'], axis=1)"
   ]
  },
  {
   "cell_type": "code",
   "execution_count": 4,
   "id": "e6d27e69",
   "metadata": {},
   "outputs": [],
   "source": [
    "def limpiar_csv(lab,finde):\n",
    "    #añadimos una columna booleana y su valor dependera si es del csv del finde o no (1 si es fin de semana)\n",
    "    lab['weekends'] = 0\n",
    "    finde['weekends'] = 1\n",
    "    #quitamos las columnas que no vamos a usar\n",
    "    lab = lab.drop(['room_shared', 'room_private', 'person_capacity', 'multi', 'biz',\n",
    "                                           'guest_satisfaction_overall', 'dist', 'metro_dist', 'attr_index',\n",
    "                                           'attr_index_norm', 'rest_index', 'rest_index_norm'], axis=1)\n",
    "        \n",
    "    finde = finde.drop(['room_shared', 'room_private', 'person_capacity', 'multi', 'biz',\n",
    "                                       'guest_satisfaction_overall', 'dist', 'metro_dist', 'attr_index',\n",
    "                                       'attr_index_norm', 'rest_index', 'rest_index_norm'], axis=1)\n",
    "    \n",
    "    return lab,finde"
   ]
  },
  {
   "cell_type": "code",
   "execution_count": 5,
   "id": "4ebacc28",
   "metadata": {},
   "outputs": [
    {
     "data": {
      "text/html": [
       "<div>\n",
       "<style scoped>\n",
       "    .dataframe tbody tr th:only-of-type {\n",
       "        vertical-align: middle;\n",
       "    }\n",
       "\n",
       "    .dataframe tbody tr th {\n",
       "        vertical-align: top;\n",
       "    }\n",
       "\n",
       "    .dataframe thead th {\n",
       "        text-align: right;\n",
       "    }\n",
       "</style>\n",
       "<table border=\"1\" class=\"dataframe\">\n",
       "  <thead>\n",
       "    <tr style=\"text-align: right;\">\n",
       "      <th></th>\n",
       "      <th>Unnamed: 0</th>\n",
       "      <th>realSum</th>\n",
       "      <th>room_type</th>\n",
       "      <th>host_is_superhost</th>\n",
       "      <th>cleanliness_rating</th>\n",
       "      <th>bedrooms</th>\n",
       "      <th>lng</th>\n",
       "      <th>lat</th>\n",
       "      <th>weekends</th>\n",
       "    </tr>\n",
       "  </thead>\n",
       "  <tbody>\n",
       "    <tr>\n",
       "      <th>0</th>\n",
       "      <td>0</td>\n",
       "      <td>474.317499</td>\n",
       "      <td>Entire home/apt</td>\n",
       "      <td>False</td>\n",
       "      <td>10.0</td>\n",
       "      <td>1</td>\n",
       "      <td>2.17556</td>\n",
       "      <td>41.39624</td>\n",
       "      <td>0</td>\n",
       "    </tr>\n",
       "    <tr>\n",
       "      <th>1</th>\n",
       "      <td>1</td>\n",
       "      <td>169.897829</td>\n",
       "      <td>Private room</td>\n",
       "      <td>True</td>\n",
       "      <td>10.0</td>\n",
       "      <td>1</td>\n",
       "      <td>2.14906</td>\n",
       "      <td>41.38714</td>\n",
       "      <td>0</td>\n",
       "    </tr>\n",
       "    <tr>\n",
       "      <th>2</th>\n",
       "      <td>2</td>\n",
       "      <td>161.984779</td>\n",
       "      <td>Private room</td>\n",
       "      <td>False</td>\n",
       "      <td>9.0</td>\n",
       "      <td>1</td>\n",
       "      <td>2.15357</td>\n",
       "      <td>41.37859</td>\n",
       "      <td>0</td>\n",
       "    </tr>\n",
       "    <tr>\n",
       "      <th>3</th>\n",
       "      <td>3</td>\n",
       "      <td>367.956804</td>\n",
       "      <td>Entire home/apt</td>\n",
       "      <td>False</td>\n",
       "      <td>10.0</td>\n",
       "      <td>1</td>\n",
       "      <td>2.16839</td>\n",
       "      <td>41.37390</td>\n",
       "      <td>0</td>\n",
       "    </tr>\n",
       "    <tr>\n",
       "      <th>4</th>\n",
       "      <td>4</td>\n",
       "      <td>196.895292</td>\n",
       "      <td>Private room</td>\n",
       "      <td>False</td>\n",
       "      <td>9.0</td>\n",
       "      <td>1</td>\n",
       "      <td>2.15238</td>\n",
       "      <td>41.37699</td>\n",
       "      <td>0</td>\n",
       "    </tr>\n",
       "  </tbody>\n",
       "</table>\n",
       "</div>"
      ],
      "text/plain": [
       "   Unnamed: 0     realSum        room_type  host_is_superhost  \\\n",
       "0           0  474.317499  Entire home/apt              False   \n",
       "1           1  169.897829     Private room               True   \n",
       "2           2  161.984779     Private room              False   \n",
       "3           3  367.956804  Entire home/apt              False   \n",
       "4           4  196.895292     Private room              False   \n",
       "\n",
       "   cleanliness_rating  bedrooms      lng       lat  weekends  \n",
       "0                10.0         1  2.17556  41.39624         0  \n",
       "1                10.0         1  2.14906  41.38714         0  \n",
       "2                 9.0         1  2.15357  41.37859         0  \n",
       "3                10.0         1  2.16839  41.37390         0  \n",
       "4                 9.0         1  2.15238  41.37699         0  "
      ]
     },
     "execution_count": 5,
     "metadata": {},
     "output_type": "execute_result"
    }
   ],
   "source": [
    "BARC_DIA_LABORAL1[:5]"
   ]
  },
  {
   "cell_type": "code",
   "execution_count": 6,
   "id": "404cc25f",
   "metadata": {},
   "outputs": [],
   "source": [
    "BARC_FIN_D_SEM = pd.read_csv('./data/barcelona_weekends.csv')\n",
    "BARC_FIN_D_SEM['weekends'] = 1\n",
    "BARC_FIN_D_SEM1 = BARC_FIN_D_SEM.drop(['room_shared', 'room_private', 'person_capacity', 'multi', 'biz',\n",
    "                                           'guest_satisfaction_overall', 'dist', 'metro_dist', 'attr_index',\n",
    "                                           'attr_index_norm', 'rest_index', 'rest_index_norm'], axis=1)"
   ]
  },
  {
   "cell_type": "code",
   "execution_count": 7,
   "id": "44056876",
   "metadata": {},
   "outputs": [
    {
     "data": {
      "text/html": [
       "<div>\n",
       "<style scoped>\n",
       "    .dataframe tbody tr th:only-of-type {\n",
       "        vertical-align: middle;\n",
       "    }\n",
       "\n",
       "    .dataframe tbody tr th {\n",
       "        vertical-align: top;\n",
       "    }\n",
       "\n",
       "    .dataframe thead th {\n",
       "        text-align: right;\n",
       "    }\n",
       "</style>\n",
       "<table border=\"1\" class=\"dataframe\">\n",
       "  <thead>\n",
       "    <tr style=\"text-align: right;\">\n",
       "      <th></th>\n",
       "      <th>Unnamed: 0</th>\n",
       "      <th>realSum</th>\n",
       "      <th>room_type</th>\n",
       "      <th>host_is_superhost</th>\n",
       "      <th>cleanliness_rating</th>\n",
       "      <th>bedrooms</th>\n",
       "      <th>lng</th>\n",
       "      <th>lat</th>\n",
       "      <th>weekends</th>\n",
       "    </tr>\n",
       "  </thead>\n",
       "  <tbody>\n",
       "    <tr>\n",
       "      <th>0</th>\n",
       "      <td>0</td>\n",
       "      <td>532.036214</td>\n",
       "      <td>Entire home/apt</td>\n",
       "      <td>False</td>\n",
       "      <td>10.0</td>\n",
       "      <td>1</td>\n",
       "      <td>2.17556</td>\n",
       "      <td>41.39624</td>\n",
       "      <td>1</td>\n",
       "    </tr>\n",
       "    <tr>\n",
       "      <th>1</th>\n",
       "      <td>1</td>\n",
       "      <td>169.897829</td>\n",
       "      <td>Private room</td>\n",
       "      <td>True</td>\n",
       "      <td>10.0</td>\n",
       "      <td>1</td>\n",
       "      <td>2.14906</td>\n",
       "      <td>41.38714</td>\n",
       "      <td>1</td>\n",
       "    </tr>\n",
       "    <tr>\n",
       "      <th>2</th>\n",
       "      <td>2</td>\n",
       "      <td>196.895292</td>\n",
       "      <td>Private room</td>\n",
       "      <td>False</td>\n",
       "      <td>9.0</td>\n",
       "      <td>1</td>\n",
       "      <td>2.16500</td>\n",
       "      <td>41.38300</td>\n",
       "      <td>1</td>\n",
       "    </tr>\n",
       "    <tr>\n",
       "      <th>3</th>\n",
       "      <td>3</td>\n",
       "      <td>141.271208</td>\n",
       "      <td>Private room</td>\n",
       "      <td>False</td>\n",
       "      <td>9.0</td>\n",
       "      <td>1</td>\n",
       "      <td>2.15342</td>\n",
       "      <td>41.37912</td>\n",
       "      <td>1</td>\n",
       "    </tr>\n",
       "    <tr>\n",
       "      <th>4</th>\n",
       "      <td>4</td>\n",
       "      <td>715.200037</td>\n",
       "      <td>Entire home/apt</td>\n",
       "      <td>True</td>\n",
       "      <td>9.0</td>\n",
       "      <td>2</td>\n",
       "      <td>2.17498</td>\n",
       "      <td>41.39214</td>\n",
       "      <td>1</td>\n",
       "    </tr>\n",
       "  </tbody>\n",
       "</table>\n",
       "</div>"
      ],
      "text/plain": [
       "   Unnamed: 0     realSum        room_type  host_is_superhost  \\\n",
       "0           0  532.036214  Entire home/apt              False   \n",
       "1           1  169.897829     Private room               True   \n",
       "2           2  196.895292     Private room              False   \n",
       "3           3  141.271208     Private room              False   \n",
       "4           4  715.200037  Entire home/apt               True   \n",
       "\n",
       "   cleanliness_rating  bedrooms      lng       lat  weekends  \n",
       "0                10.0         1  2.17556  41.39624         1  \n",
       "1                10.0         1  2.14906  41.38714         1  \n",
       "2                 9.0         1  2.16500  41.38300         1  \n",
       "3                 9.0         1  2.15342  41.37912         1  \n",
       "4                 9.0         2  2.17498  41.39214         1  "
      ]
     },
     "execution_count": 7,
     "metadata": {},
     "output_type": "execute_result"
    }
   ],
   "source": [
    "BARC_FIN_D_SEM1[:5]"
   ]
  },
  {
   "cell_type": "code",
   "execution_count": 8,
   "id": "0db26ec6",
   "metadata": {},
   "outputs": [
    {
     "data": {
      "text/html": [
       "<div>\n",
       "<style scoped>\n",
       "    .dataframe tbody tr th:only-of-type {\n",
       "        vertical-align: middle;\n",
       "    }\n",
       "\n",
       "    .dataframe tbody tr th {\n",
       "        vertical-align: top;\n",
       "    }\n",
       "\n",
       "    .dataframe thead th {\n",
       "        text-align: right;\n",
       "    }\n",
       "</style>\n",
       "<table border=\"1\" class=\"dataframe\">\n",
       "  <thead>\n",
       "    <tr style=\"text-align: right;\">\n",
       "      <th></th>\n",
       "      <th>Unnamed: 0</th>\n",
       "      <th>realSum</th>\n",
       "      <th>room_type</th>\n",
       "      <th>host_is_superhost</th>\n",
       "      <th>cleanliness_rating</th>\n",
       "      <th>bedrooms</th>\n",
       "      <th>lng</th>\n",
       "      <th>lat</th>\n",
       "      <th>weekends</th>\n",
       "    </tr>\n",
       "  </thead>\n",
       "  <tbody>\n",
       "    <tr>\n",
       "      <th>0</th>\n",
       "      <td>0</td>\n",
       "      <td>474.317499</td>\n",
       "      <td>Entire home/apt</td>\n",
       "      <td>False</td>\n",
       "      <td>10.0</td>\n",
       "      <td>1</td>\n",
       "      <td>2.17556</td>\n",
       "      <td>41.39624</td>\n",
       "      <td>0</td>\n",
       "    </tr>\n",
       "    <tr>\n",
       "      <th>1</th>\n",
       "      <td>1</td>\n",
       "      <td>169.897829</td>\n",
       "      <td>Private room</td>\n",
       "      <td>True</td>\n",
       "      <td>10.0</td>\n",
       "      <td>1</td>\n",
       "      <td>2.14906</td>\n",
       "      <td>41.38714</td>\n",
       "      <td>0</td>\n",
       "    </tr>\n",
       "    <tr>\n",
       "      <th>2</th>\n",
       "      <td>2</td>\n",
       "      <td>161.984779</td>\n",
       "      <td>Private room</td>\n",
       "      <td>False</td>\n",
       "      <td>9.0</td>\n",
       "      <td>1</td>\n",
       "      <td>2.15357</td>\n",
       "      <td>41.37859</td>\n",
       "      <td>0</td>\n",
       "    </tr>\n",
       "    <tr>\n",
       "      <th>3</th>\n",
       "      <td>3</td>\n",
       "      <td>367.956804</td>\n",
       "      <td>Entire home/apt</td>\n",
       "      <td>False</td>\n",
       "      <td>10.0</td>\n",
       "      <td>1</td>\n",
       "      <td>2.16839</td>\n",
       "      <td>41.37390</td>\n",
       "      <td>0</td>\n",
       "    </tr>\n",
       "    <tr>\n",
       "      <th>4</th>\n",
       "      <td>4</td>\n",
       "      <td>196.895292</td>\n",
       "      <td>Private room</td>\n",
       "      <td>False</td>\n",
       "      <td>9.0</td>\n",
       "      <td>1</td>\n",
       "      <td>2.15238</td>\n",
       "      <td>41.37699</td>\n",
       "      <td>0</td>\n",
       "    </tr>\n",
       "    <tr>\n",
       "      <th>5</th>\n",
       "      <td>5</td>\n",
       "      <td>330.951661</td>\n",
       "      <td>Entire home/apt</td>\n",
       "      <td>False</td>\n",
       "      <td>9.0</td>\n",
       "      <td>2</td>\n",
       "      <td>2.18197</td>\n",
       "      <td>41.40842</td>\n",
       "      <td>0</td>\n",
       "    </tr>\n",
       "  </tbody>\n",
       "</table>\n",
       "</div>"
      ],
      "text/plain": [
       "   Unnamed: 0     realSum        room_type  host_is_superhost  \\\n",
       "0           0  474.317499  Entire home/apt              False   \n",
       "1           1  169.897829     Private room               True   \n",
       "2           2  161.984779     Private room              False   \n",
       "3           3  367.956804  Entire home/apt              False   \n",
       "4           4  196.895292     Private room              False   \n",
       "5           5  330.951661  Entire home/apt              False   \n",
       "\n",
       "   cleanliness_rating  bedrooms      lng       lat  weekends  \n",
       "0                10.0         1  2.17556  41.39624         0  \n",
       "1                10.0         1  2.14906  41.38714         0  \n",
       "2                 9.0         1  2.15357  41.37859         0  \n",
       "3                10.0         1  2.16839  41.37390         0  \n",
       "4                 9.0         1  2.15238  41.37699         0  \n",
       "5                 9.0         2  2.18197  41.40842         0  "
      ]
     },
     "execution_count": 8,
     "metadata": {},
     "output_type": "execute_result"
    }
   ],
   "source": [
    "merged_df = pd.concat([BARC_DIA_LABORAL1, BARC_FIN_D_SEM1], axis=0, ignore_index=True)\n",
    "merged_df[:6]"
   ]
  },
  {
   "cell_type": "code",
   "execution_count": 9,
   "id": "d1d5e79a",
   "metadata": {},
   "outputs": [
    {
     "data": {
      "text/html": [
       "<div>\n",
       "<style scoped>\n",
       "    .dataframe tbody tr th:only-of-type {\n",
       "        vertical-align: middle;\n",
       "    }\n",
       "\n",
       "    .dataframe tbody tr th {\n",
       "        vertical-align: top;\n",
       "    }\n",
       "\n",
       "    .dataframe thead th {\n",
       "        text-align: right;\n",
       "    }\n",
       "</style>\n",
       "<table border=\"1\" class=\"dataframe\">\n",
       "  <thead>\n",
       "    <tr style=\"text-align: right;\">\n",
       "      <th></th>\n",
       "      <th>Id</th>\n",
       "      <th>realSum</th>\n",
       "      <th>room_type</th>\n",
       "      <th>host_is_superhost</th>\n",
       "      <th>cleanliness_rating</th>\n",
       "      <th>bedrooms</th>\n",
       "      <th>lng</th>\n",
       "      <th>lat</th>\n",
       "      <th>weekends</th>\n",
       "    </tr>\n",
       "  </thead>\n",
       "  <tbody>\n",
       "    <tr>\n",
       "      <th>0</th>\n",
       "      <td>0</td>\n",
       "      <td>474.317499</td>\n",
       "      <td>Entire home/apt</td>\n",
       "      <td>False</td>\n",
       "      <td>10.0</td>\n",
       "      <td>1</td>\n",
       "      <td>2.17556</td>\n",
       "      <td>41.39624</td>\n",
       "      <td>0</td>\n",
       "    </tr>\n",
       "    <tr>\n",
       "      <th>1</th>\n",
       "      <td>1</td>\n",
       "      <td>169.897829</td>\n",
       "      <td>Private room</td>\n",
       "      <td>True</td>\n",
       "      <td>10.0</td>\n",
       "      <td>1</td>\n",
       "      <td>2.14906</td>\n",
       "      <td>41.38714</td>\n",
       "      <td>0</td>\n",
       "    </tr>\n",
       "    <tr>\n",
       "      <th>2</th>\n",
       "      <td>2</td>\n",
       "      <td>161.984779</td>\n",
       "      <td>Private room</td>\n",
       "      <td>False</td>\n",
       "      <td>9.0</td>\n",
       "      <td>1</td>\n",
       "      <td>2.15357</td>\n",
       "      <td>41.37859</td>\n",
       "      <td>0</td>\n",
       "    </tr>\n",
       "    <tr>\n",
       "      <th>3</th>\n",
       "      <td>3</td>\n",
       "      <td>367.956804</td>\n",
       "      <td>Entire home/apt</td>\n",
       "      <td>False</td>\n",
       "      <td>10.0</td>\n",
       "      <td>1</td>\n",
       "      <td>2.16839</td>\n",
       "      <td>41.37390</td>\n",
       "      <td>0</td>\n",
       "    </tr>\n",
       "    <tr>\n",
       "      <th>4</th>\n",
       "      <td>4</td>\n",
       "      <td>196.895292</td>\n",
       "      <td>Private room</td>\n",
       "      <td>False</td>\n",
       "      <td>9.0</td>\n",
       "      <td>1</td>\n",
       "      <td>2.15238</td>\n",
       "      <td>41.37699</td>\n",
       "      <td>0</td>\n",
       "    </tr>\n",
       "    <tr>\n",
       "      <th>5</th>\n",
       "      <td>5</td>\n",
       "      <td>330.951661</td>\n",
       "      <td>Entire home/apt</td>\n",
       "      <td>False</td>\n",
       "      <td>9.0</td>\n",
       "      <td>2</td>\n",
       "      <td>2.18197</td>\n",
       "      <td>41.40842</td>\n",
       "      <td>0</td>\n",
       "    </tr>\n",
       "  </tbody>\n",
       "</table>\n",
       "</div>"
      ],
      "text/plain": [
       "   Id     realSum        room_type  host_is_superhost  cleanliness_rating  \\\n",
       "0   0  474.317499  Entire home/apt              False                10.0   \n",
       "1   1  169.897829     Private room               True                10.0   \n",
       "2   2  161.984779     Private room              False                 9.0   \n",
       "3   3  367.956804  Entire home/apt              False                10.0   \n",
       "4   4  196.895292     Private room              False                 9.0   \n",
       "5   5  330.951661  Entire home/apt              False                 9.0   \n",
       "\n",
       "   bedrooms      lng       lat  weekends  \n",
       "0         1  2.17556  41.39624         0  \n",
       "1         1  2.14906  41.38714         0  \n",
       "2         1  2.15357  41.37859         0  \n",
       "3         1  2.16839  41.37390         0  \n",
       "4         1  2.15238  41.37699         0  \n",
       "5         2  2.18197  41.40842         0  "
      ]
     },
     "execution_count": 9,
     "metadata": {},
     "output_type": "execute_result"
    }
   ],
   "source": [
    "merged_df = merged_df.rename(columns={'Unnamed: 0': 'Id'})\n",
    "merged_df[:6]"
   ]
  },
  {
   "cell_type": "code",
   "execution_count": 10,
   "id": "6356106f",
   "metadata": {},
   "outputs": [],
   "source": [
    "def union_csv(lab,finde):\n",
    "    union = pd.concat([lab, finde], axis=0, ignore_index=True)\n",
    "    #cambiar el nombre de la columna 1, que está vacio a ID\n",
    "    union = union.rename(columns={'Unnamed: 0': 'Id'})\n",
    "    #voy a ordenarlos por id\n",
    "    union = union.sort_values(by=\"Id\")\n",
    "    return union"
   ]
  },
  {
   "cell_type": "code",
   "execution_count": 11,
   "id": "0f6a17db",
   "metadata": {},
   "outputs": [],
   "source": [
    "#merged_df.to_csv('barcelona.csv', index=False)"
   ]
  },
  {
   "cell_type": "code",
   "execution_count": 12,
   "id": "c54c3bcb",
   "metadata": {},
   "outputs": [
    {
     "name": "stdout",
     "output_type": "stream",
     "text": [
      "<class 'pandas.core.frame.DataFrame'>\n",
      "RangeIndex: 1555 entries, 0 to 1554\n",
      "Data columns (total 9 columns):\n",
      " #   Column              Non-Null Count  Dtype  \n",
      "---  ------              --------------  -----  \n",
      " 0   Unnamed: 0          1555 non-null   int64  \n",
      " 1   realSum             1555 non-null   float64\n",
      " 2   room_type           1555 non-null   object \n",
      " 3   host_is_superhost   1555 non-null   bool   \n",
      " 4   cleanliness_rating  1555 non-null   float64\n",
      " 5   bedrooms            1555 non-null   int64  \n",
      " 6   lng                 1555 non-null   float64\n",
      " 7   lat                 1555 non-null   float64\n",
      " 8   weekends            1555 non-null   int64  \n",
      "dtypes: bool(1), float64(4), int64(3), object(1)\n",
      "memory usage: 98.8+ KB\n",
      "\n",
      "\n",
      "<class 'pandas.core.frame.DataFrame'>\n",
      "RangeIndex: 1278 entries, 0 to 1277\n",
      "Data columns (total 9 columns):\n",
      " #   Column              Non-Null Count  Dtype  \n",
      "---  ------              --------------  -----  \n",
      " 0   Unnamed: 0          1278 non-null   int64  \n",
      " 1   realSum             1278 non-null   float64\n",
      " 2   room_type           1278 non-null   object \n",
      " 3   host_is_superhost   1278 non-null   bool   \n",
      " 4   cleanliness_rating  1278 non-null   float64\n",
      " 5   bedrooms            1278 non-null   int64  \n",
      " 6   lng                 1278 non-null   float64\n",
      " 7   lat                 1278 non-null   float64\n",
      " 8   weekends            1278 non-null   int64  \n",
      "dtypes: bool(1), float64(4), int64(3), object(1)\n",
      "memory usage: 81.2+ KB\n"
     ]
    }
   ],
   "source": [
    "BARC_DIA_LABORAL1.info()\n",
    "print(\"\\n\")\n",
    "BARC_FIN_D_SEM1.info()"
   ]
  },
  {
   "cell_type": "code",
   "execution_count": 13,
   "id": "23bae8d9",
   "metadata": {},
   "outputs": [],
   "source": [
    "carpeta = 'data'  \n",
    "lista_csv = []\n",
    "ruta_carpeta = os.path.join(os.getcwd(), carpeta)  \n",
    "\n",
    "archivos = os.listdir(ruta_carpeta)#lista con los nombres de los archivos de nuestra carpeta\n",
    "\n",
    "for archivo in archivos:\n",
    "    lista_csv.append(archivo)\n",
    "    #print(archivo)"
   ]
  },
  {
   "cell_type": "code",
   "execution_count": 14,
   "id": "bffd626d",
   "metadata": {},
   "outputs": [],
   "source": [
    "#ahora queremos que cada archivo de finde y entre semana se junten con los de su misma ciudad, haciendo todos los cambios antes\n",
    "#declarados como quitar las columnas que no vamos a usar o añadir la columna\n",
    "path = './data/' \n",
    "for i in range(0,len(lista_csv),2):\n",
    "    lab = lista_csv[i]; finde = lista_csv[i+1]\n",
    "    laborable =  pd.read_csv(path+lab)\n",
    "    weekend =  pd.read_csv(path+finde)\n",
    "    #aplicar las funciones de cambios\n",
    "    laborable, weekend = limpiar_csv(laborable,weekend)\n",
    "    #uniones de ambos dataframes\n",
    "    union = union_csv(laborable,weekend)\n",
    "        \n",
    "    #para conseguir el nombre de la ciudad que estamos tratando, podemos usar expresiones regulares.\n",
    "    ciudad = lab.split(\"_\")[0]\n",
    "    nombre = 'datos filtrados/'+ciudad +'.csv'\n",
    "    #print(ciudad)\n",
    "    #generar el nuevo csv con el nombre de la ciudad\n",
    "    #el mode w es para activar la sobreescritura\n",
    "    union.to_csv(nombre, index=False,mode='w')"
   ]
  },
  {
   "cell_type": "code",
   "execution_count": 15,
   "id": "8a49b4cd",
   "metadata": {},
   "outputs": [],
   "source": [
    "\n",
    "carpeta2 = 'datos filtrados'\n",
    "ruta_carpeta = os.path.join(os.getcwd(), carpeta2)  \n",
    "lista_ciudades = []\n",
    "archivos = os.listdir(ruta_carpeta)#lista con los nombres de los archivos de nuestra carpeta\n",
    "#dataframe vacio como acumulador\n",
    "total = pd.DataFrame()\n",
    "path2 = './datos filtrados/'\n",
    "for archivo in archivos:       \n",
    "    ciudad = archivo.split(\".\")[0]\n",
    "    #pasar el csv a data frame\n",
    "    doc = pd.read_csv(path2+archivo)\n",
    "    #añadir una columna con el nombre de la ciudad a la que pertenece\n",
    "    doc['Ciudad'] = ciudad\n",
    "    lista_ciudades.append(ciudad)\n",
    "    #meterlo en el csv global (creo que el concat es lo que mejor funcionaria)\n",
    "    total = pd.concat([total, doc], axis=0, ignore_index=True)\n",
    "total.to_csv('AirBNB.csv', index=False,mode='w')"
   ]
  },
  {
   "cell_type": "code",
   "execution_count": 35,
   "id": "3ce0e76d",
   "metadata": {},
   "outputs": [
    {
     "name": "stdout",
     "output_type": "stream",
     "text": [
      "        Id      realSum        room_type  host_is_superhost  \\\n",
      "5        2   482.975183     Private room              False   \n",
      "6        3   433.529398     Private room              False   \n",
      "10       5  1001.804420  Entire home/apt              False   \n",
      "11       5   552.808567     Private room              False   \n",
      "17       8  1001.804420  Entire home/apt              False   \n",
      "...    ...          ...              ...                ...   \n",
      "2042  1065   538.513814  Entire home/apt              False   \n",
      "2054  1077   388.067396  Entire home/apt              False   \n",
      "2065  1088  1062.967216  Entire home/apt               True   \n",
      "2069  1092   792.772948  Entire home/apt               True   \n",
      "2070  1093   909.474375  Entire home/apt              False   \n",
      "\n",
      "      cleanliness_rating  bedrooms      lng       lat  weekends     Ciudad  \n",
      "5                    9.0         2  4.89417  52.37663         1  amsterdam  \n",
      "6                    9.0         2  4.89417  52.37663         0  amsterdam  \n",
      "10                   9.0         2  4.86459  52.40175         1  amsterdam  \n",
      "11                   8.0         2  4.87699  52.38966         0  amsterdam  \n",
      "17                   9.0         2  4.86459  52.40175         0  amsterdam  \n",
      "...                  ...       ...      ...       ...       ...        ...  \n",
      "2042                10.0         2  4.92176  52.35761         0  amsterdam  \n",
      "2054                10.0         2  4.85169  52.37754         0  amsterdam  \n",
      "2065                 9.0         2  4.88267  52.37713         0  amsterdam  \n",
      "2069                10.0         2  4.90100  52.36200         0  amsterdam  \n",
      "2070                 8.0         2  4.88701  52.35440         0  amsterdam  \n",
      "\n",
      "[428 rows x 10 columns]\n"
     ]
    }
   ],
   "source": [
    "\n",
    "def buscador(ciudad,precio_min,precio_max,habitaciones,tipo):\n",
    "    df = pd.read_csv('./AirBNB.csv')\n",
    "    if ciudad in lista_ciudades:\n",
    "        df = df.drop(df[df['Ciudad'] != ciudad].index)\n",
    "    df = df.drop(df[(df['realSum'] < precio_min) & (df['realSum'] < precio_max)].index)\n",
    "    df = df.drop(df[df['bedrooms'] != habitaciones].index)\n",
    "    if tipo != '':\n",
    "        df = df.drop(df[df['room_type'] != tipo].index)\n",
    "    df.to_csv('busqueda.csv', index=False,mode='w')\n",
    "    print(df)\n",
    "buscador('amsterdam',200.0,350.0,2,'')\n",
    "#las room_type son: Private room, Entire home/apt "
   ]
  },
  {
   "cell_type": "code",
   "execution_count": 17,
   "id": "a9ed0a56",
   "metadata": {},
   "outputs": [],
   "source": [
    "from statistics import mode"
   ]
  },
  {
   "cell_type": "markdown",
   "id": "4e11af54",
   "metadata": {},
   "source": [
    "## Ejercicio 2. Visualización"
   ]
  },
  {
   "cell_type": "markdown",
   "id": "bbf6f471",
   "metadata": {},
   "source": [
    "En este apartado queremos realizar un análisis exploratorio de los datos, apoyándonos de la visualización. En concreto, nos gustaría estudiar las frecuencias y distribuciones de distintos atributos en función del tipo de producción (*Film* o *Series*).\n",
    "\n",
    "Para ello, queremos realizar las distintas representaciones gráficas:"
   ]
  },
  {
   "cell_type": "markdown",
   "id": "ace979ac",
   "metadata": {},
   "source": [
    "### 2.1 Diagramas de tarta\n",
    "\n",
    "Mostrar un diagrama de tarta con la frecuencia de aparición de los géneros principales para cada uno de estos conjuntos:\n",
    "    a) Todas las series y películas\n",
    "    b) Solamente para las series\n",
    "    c) Solamente para las películas\n",
    "    \n",
    "Muestra en cada diagrama los porcentajes de cada género principal y responde a estas preguntas:\n",
    "\n",
    "    ¿Cuál es el género principal más frecuente en las series?\n",
    "    ¿Cuál es el género principal más frecuente en las películas?"
   ]
  },
  {
   "cell_type": "code",
   "execution_count": 18,
   "id": "47b6ad7b",
   "metadata": {},
   "outputs": [
    {
     "name": "stdout",
     "output_type": "stream",
     "text": [
      "Grafica Barcelona días laborales\n"
     ]
    },
    {
     "data": {
      "text/plain": [
       "<Axes: ylabel='room_type'>"
      ]
     },
     "execution_count": 18,
     "metadata": {},
     "output_type": "execute_result"
    },
    {
     "data": {
      "image/png": "[encoded data removed]",
      "text/plain": [
       "<Figure size 640x480 with 1 Axes>"
      ]
     },
     "metadata": {},
     "output_type": "display_data"
    }
   ],
   "source": [
    "print(\"Grafica Barcelona días laborales\")\n",
    "BARC_DIA_LABORAL['room_type'].value_counts().plot(kind='pie')"
   ]
  },
  {
   "cell_type": "code",
   "execution_count": 19,
   "id": "c14a9ca5",
   "metadata": {},
   "outputs": [
    {
     "name": "stdout",
     "output_type": "stream",
     "text": [
      "Barcelona Fin de Semana\n"
     ]
    },
    {
     "data": {
      "text/plain": [
       "<Axes: ylabel='room_type'>"
      ]
     },
     "execution_count": 19,
     "metadata": {},
     "output_type": "execute_result"
    },
    {
     "data": {
      "image/png": "[encoded data removed]",
      "text/plain": [
       "<Figure size 640x480 with 1 Axes>"
      ]
     },
     "metadata": {},
     "output_type": "display_data"
    }
   ],
   "source": [
    "print(\"Barcelona Fin de Semana\")\n",
    "BARC_FIN_D_SEM['room_type'].value_counts().plot(kind='pie')"
   ]
  },
  {
   "cell_type": "code",
   "execution_count": 20,
   "id": "834da6ec",
   "metadata": {},
   "outputs": [
    {
     "name": "stdout",
     "output_type": "stream",
     "text": [
      "Barcelona días laborales Private room       1185\n",
      "Entire home/apt     362\n",
      "Shared room           8\n",
      "Name: room_type, dtype: int64\n",
      "\n",
      "\n",
      "Barcelona fin de semana Private room       1094\n",
      "Entire home/apt     180\n",
      "Shared room           4\n",
      "Name: room_type, dtype: int64\n"
     ]
    }
   ],
   "source": [
    "print(\"Barcelona días laborales\", BARC_DIA_LABORAL['room_type'].value_counts())\n",
    "print(\"\\n\")\n",
    "print(\"Barcelona fin de semana\", BARC_FIN_D_SEM['room_type'].value_counts())"
   ]
  },
  {
   "cell_type": "code",
   "execution_count": 21,
   "id": "8abc1e3e",
   "metadata": {},
   "outputs": [
    {
     "data": {
      "text/plain": [
       "<Axes: ylabel='room_type'>"
      ]
     },
     "execution_count": 21,
     "metadata": {},
     "output_type": "execute_result"
    },
    {
     "data": {
      "image/png": "[encoded data removed]",
      "text/plain": [
       "<Figure size 640x480 with 1 Axes>"
      ]
     },
     "metadata": {},
     "output_type": "display_data"
    }
   ],
   "source": [
    "BARC_DIA_LABORAL[(BARC_DIA_LABORAL['host_is_superhost'] == True)]['room_type'].value_counts().plot(kind='pie')"
   ]
  },
  {
   "cell_type": "code",
   "execution_count": 22,
   "id": "0479a441",
   "metadata": {},
   "outputs": [
    {
     "data": {
      "text/plain": [
       "<Axes: ylabel='room_type'>"
      ]
     },
     "execution_count": 22,
     "metadata": {},
     "output_type": "execute_result"
    },
    {
     "data": {
      "image/png": "[encoded data removed]",
      "text/plain": [
       "<Figure size 640x480 with 1 Axes>"
      ]
     },
     "metadata": {},
     "output_type": "display_data"
    }
   ],
   "source": [
    "BARC_FIN_D_SEM[(BARC_FIN_D_SEM['host_is_superhost'] == True)]['room_type'].value_counts().plot(kind='pie')"
   ]
  },
  {
   "cell_type": "code",
   "execution_count": null,
   "id": "2efe2273",
   "metadata": {},
   "outputs": [],
   "source": []
  }
 ],
 "metadata": {
  "kernelspec": {
   "display_name": "Python 3",
   "language": "python",
   "name": "python3"
  },
  "language_info": {
   "codemirror_mode": {
    "name": "ipython",
    "version": 3
   },
   "file_extension": ".py",
   "mimetype": "text/x-python",
   "name": "python",
   "nbconvert_exporter": "python",
   "pygments_lexer": "ipython3",
   "version": "3.10.9"
  }
 },
 "nbformat": 4,
 "nbformat_minor": 5
}
