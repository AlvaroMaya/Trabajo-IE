{
 "cells": [
  {
   "cell_type": "markdown",
   "id": "afce47f5",
   "metadata": {},
   "source": [
    "# Actividad de evaluación: &nbsp;&nbsp;&nbsp;&nbsp;&nbsp;    21/03/2023\n",
    "# Introducción a Machine Learning con Python"
   ]
  },
  {
   "cell_type": "code",
   "execution_count": 1,
   "id": "315d1838",
   "metadata": {},
   "outputs": [],
   "source": [
    "#Importaciones\n",
    "\n",
    "#Tratamiento de dataset\n",
    "import pandas as pd\n",
    "import numpy as np\n",
    "\n",
    "#OneHotEncoder\n",
    "from sklearn.preprocessing import OneHotEncoder\n",
    "\n",
    "#Visualización\n",
    "import matplotlib.pyplot as plt\n",
    "import seaborn as sns\n",
    "\n",
    "#Métricas de evaluación\n",
    "from sklearn import metrics\n",
    "\n",
    "#Time\n",
    "import time"
   ]
  },
  {
   "cell_type": "markdown",
   "id": "6700a2b5",
   "metadata": {},
   "source": [
    "## Ejercicio 1: Lectura del data set y preprocesamiento\n",
    "### 1.1 Lectura del dataset\n",
    "Realizar la lectura del dataset e imprimir la información de sus columnas.<br>\n",
    "Mostrar por pantalla el contenido de las 5 primeras filas. <br>\n",
    "Mostrar una descripción de los estadísticos principales de la columnas numéricas."
   ]
  },
  {
   "cell_type": "code",
   "execution_count": 29,
   "id": "2a6c497e",
   "metadata": {},
   "outputs": [],
   "source": [
    "BARC_DIA_LABORAL = pd.read_csv('./barcelona_weekdays.csv')\n",
    "BARC_DIA_LABORAL['weekends'] = 0"
   ]
  },
  {
   "cell_type": "code",
   "execution_count": 30,
   "id": "bf1dddcd",
   "metadata": {},
   "outputs": [],
   "source": [
    "BARC_DIA_LABORAL1 = BARC_DIA_LABORAL.drop(['room_shared', 'room_private', 'person_capacity', 'multi', 'biz',\n",
    "                                           'guest_satisfaction_overall', 'dist', 'metro_dist', 'attr_index',\n",
    "                                           'attr_index_norm', 'rest_index', 'rest_index_norm'], axis=1)"
   ]
  },
  {
   "cell_type": "code",
   "execution_count": 31,
   "id": "2cec0bfc",
   "metadata": {},
   "outputs": [
    {
     "data": {
      "text/html": [
       "<div>\n",
       "<style scoped>\n",
       "    .dataframe tbody tr th:only-of-type {\n",
       "        vertical-align: middle;\n",
       "    }\n",
       "\n",
       "    .dataframe tbody tr th {\n",
       "        vertical-align: top;\n",
       "    }\n",
       "\n",
       "    .dataframe thead th {\n",
       "        text-align: right;\n",
       "    }\n",
       "</style>\n",
       "<table border=\"1\" class=\"dataframe\">\n",
       "  <thead>\n",
       "    <tr style=\"text-align: right;\">\n",
       "      <th></th>\n",
       "      <th>Unnamed: 0</th>\n",
       "      <th>realSum</th>\n",
       "      <th>room_type</th>\n",
       "      <th>host_is_superhost</th>\n",
       "      <th>cleanliness_rating</th>\n",
       "      <th>bedrooms</th>\n",
       "      <th>lng</th>\n",
       "      <th>lat</th>\n",
       "      <th>weekends</th>\n",
       "    </tr>\n",
       "  </thead>\n",
       "  <tbody>\n",
       "    <tr>\n",
       "      <th>0</th>\n",
       "      <td>0</td>\n",
       "      <td>474.317499</td>\n",
       "      <td>Entire home/apt</td>\n",
       "      <td>False</td>\n",
       "      <td>10.0</td>\n",
       "      <td>1</td>\n",
       "      <td>2.17556</td>\n",
       "      <td>41.39624</td>\n",
       "      <td>0</td>\n",
       "    </tr>\n",
       "    <tr>\n",
       "      <th>1</th>\n",
       "      <td>1</td>\n",
       "      <td>169.897829</td>\n",
       "      <td>Private room</td>\n",
       "      <td>True</td>\n",
       "      <td>10.0</td>\n",
       "      <td>1</td>\n",
       "      <td>2.14906</td>\n",
       "      <td>41.38714</td>\n",
       "      <td>0</td>\n",
       "    </tr>\n",
       "    <tr>\n",
       "      <th>2</th>\n",
       "      <td>2</td>\n",
       "      <td>161.984779</td>\n",
       "      <td>Private room</td>\n",
       "      <td>False</td>\n",
       "      <td>9.0</td>\n",
       "      <td>1</td>\n",
       "      <td>2.15357</td>\n",
       "      <td>41.37859</td>\n",
       "      <td>0</td>\n",
       "    </tr>\n",
       "    <tr>\n",
       "      <th>3</th>\n",
       "      <td>3</td>\n",
       "      <td>367.956804</td>\n",
       "      <td>Entire home/apt</td>\n",
       "      <td>False</td>\n",
       "      <td>10.0</td>\n",
       "      <td>1</td>\n",
       "      <td>2.16839</td>\n",
       "      <td>41.37390</td>\n",
       "      <td>0</td>\n",
       "    </tr>\n",
       "    <tr>\n",
       "      <th>4</th>\n",
       "      <td>4</td>\n",
       "      <td>196.895292</td>\n",
       "      <td>Private room</td>\n",
       "      <td>False</td>\n",
       "      <td>9.0</td>\n",
       "      <td>1</td>\n",
       "      <td>2.15238</td>\n",
       "      <td>41.37699</td>\n",
       "      <td>0</td>\n",
       "    </tr>\n",
       "  </tbody>\n",
       "</table>\n",
       "</div>"
      ],
      "text/plain": [
       "   Unnamed: 0     realSum        room_type  host_is_superhost  \\\n",
       "0           0  474.317499  Entire home/apt              False   \n",
       "1           1  169.897829     Private room               True   \n",
       "2           2  161.984779     Private room              False   \n",
       "3           3  367.956804  Entire home/apt              False   \n",
       "4           4  196.895292     Private room              False   \n",
       "\n",
       "   cleanliness_rating  bedrooms      lng       lat  weekends  \n",
       "0                10.0         1  2.17556  41.39624         0  \n",
       "1                10.0         1  2.14906  41.38714         0  \n",
       "2                 9.0         1  2.15357  41.37859         0  \n",
       "3                10.0         1  2.16839  41.37390         0  \n",
       "4                 9.0         1  2.15238  41.37699         0  "
      ]
     },
     "execution_count": 31,
     "metadata": {},
     "output_type": "execute_result"
    }
   ],
   "source": [
    "BARC_DIA_LABORAL1[:5]"
   ]
  },
  {
   "cell_type": "code",
   "execution_count": 32,
   "id": "921b6257",
   "metadata": {},
   "outputs": [],
   "source": [
    "BARC_FIN_D_SEM = pd.read_csv('./barcelona_weekends.csv')\n",
    "BARC_FIN_D_SEM['weekends'] = 1\n",
    "BARC_FIN_D_SEM1 = BARC_FIN_D_SEM.drop(['room_shared', 'room_private', 'person_capacity', 'multi', 'biz',\n",
    "                                           'guest_satisfaction_overall', 'dist', 'metro_dist', 'attr_index',\n",
    "                                           'attr_index_norm', 'rest_index', 'rest_index_norm'], axis=1)"
   ]
  },
  {
   "cell_type": "code",
   "execution_count": 33,
   "id": "90b7119f",
   "metadata": {},
   "outputs": [
    {
     "data": {
      "text/html": [
       "<div>\n",
       "<style scoped>\n",
       "    .dataframe tbody tr th:only-of-type {\n",
       "        vertical-align: middle;\n",
       "    }\n",
       "\n",
       "    .dataframe tbody tr th {\n",
       "        vertical-align: top;\n",
       "    }\n",
       "\n",
       "    .dataframe thead th {\n",
       "        text-align: right;\n",
       "    }\n",
       "</style>\n",
       "<table border=\"1\" class=\"dataframe\">\n",
       "  <thead>\n",
       "    <tr style=\"text-align: right;\">\n",
       "      <th></th>\n",
       "      <th>Unnamed: 0</th>\n",
       "      <th>realSum</th>\n",
       "      <th>room_type</th>\n",
       "      <th>host_is_superhost</th>\n",
       "      <th>cleanliness_rating</th>\n",
       "      <th>bedrooms</th>\n",
       "      <th>lng</th>\n",
       "      <th>lat</th>\n",
       "      <th>weekends</th>\n",
       "    </tr>\n",
       "  </thead>\n",
       "  <tbody>\n",
       "    <tr>\n",
       "      <th>0</th>\n",
       "      <td>0</td>\n",
       "      <td>532.036214</td>\n",
       "      <td>Entire home/apt</td>\n",
       "      <td>False</td>\n",
       "      <td>10.0</td>\n",
       "      <td>1</td>\n",
       "      <td>2.17556</td>\n",
       "      <td>41.39624</td>\n",
       "      <td>1</td>\n",
       "    </tr>\n",
       "    <tr>\n",
       "      <th>1</th>\n",
       "      <td>1</td>\n",
       "      <td>169.897829</td>\n",
       "      <td>Private room</td>\n",
       "      <td>True</td>\n",
       "      <td>10.0</td>\n",
       "      <td>1</td>\n",
       "      <td>2.14906</td>\n",
       "      <td>41.38714</td>\n",
       "      <td>1</td>\n",
       "    </tr>\n",
       "    <tr>\n",
       "      <th>2</th>\n",
       "      <td>2</td>\n",
       "      <td>196.895292</td>\n",
       "      <td>Private room</td>\n",
       "      <td>False</td>\n",
       "      <td>9.0</td>\n",
       "      <td>1</td>\n",
       "      <td>2.16500</td>\n",
       "      <td>41.38300</td>\n",
       "      <td>1</td>\n",
       "    </tr>\n",
       "    <tr>\n",
       "      <th>3</th>\n",
       "      <td>3</td>\n",
       "      <td>141.271208</td>\n",
       "      <td>Private room</td>\n",
       "      <td>False</td>\n",
       "      <td>9.0</td>\n",
       "      <td>1</td>\n",
       "      <td>2.15342</td>\n",
       "      <td>41.37912</td>\n",
       "      <td>1</td>\n",
       "    </tr>\n",
       "    <tr>\n",
       "      <th>4</th>\n",
       "      <td>4</td>\n",
       "      <td>715.200037</td>\n",
       "      <td>Entire home/apt</td>\n",
       "      <td>True</td>\n",
       "      <td>9.0</td>\n",
       "      <td>2</td>\n",
       "      <td>2.17498</td>\n",
       "      <td>41.39214</td>\n",
       "      <td>1</td>\n",
       "    </tr>\n",
       "  </tbody>\n",
       "</table>\n",
       "</div>"
      ],
      "text/plain": [
       "   Unnamed: 0     realSum        room_type  host_is_superhost  \\\n",
       "0           0  532.036214  Entire home/apt              False   \n",
       "1           1  169.897829     Private room               True   \n",
       "2           2  196.895292     Private room              False   \n",
       "3           3  141.271208     Private room              False   \n",
       "4           4  715.200037  Entire home/apt               True   \n",
       "\n",
       "   cleanliness_rating  bedrooms      lng       lat  weekends  \n",
       "0                10.0         1  2.17556  41.39624         1  \n",
       "1                10.0         1  2.14906  41.38714         1  \n",
       "2                 9.0         1  2.16500  41.38300         1  \n",
       "3                 9.0         1  2.15342  41.37912         1  \n",
       "4                 9.0         2  2.17498  41.39214         1  "
      ]
     },
     "execution_count": 33,
     "metadata": {},
     "output_type": "execute_result"
    }
   ],
   "source": [
    "BARC_FIN_D_SEM1[:5]"
   ]
  },
  {
   "cell_type": "code",
   "execution_count": 34,
   "id": "747234f9",
   "metadata": {},
   "outputs": [
    {
     "data": {
      "text/html": [
       "<div>\n",
       "<style scoped>\n",
       "    .dataframe tbody tr th:only-of-type {\n",
       "        vertical-align: middle;\n",
       "    }\n",
       "\n",
       "    .dataframe tbody tr th {\n",
       "        vertical-align: top;\n",
       "    }\n",
       "\n",
       "    .dataframe thead th {\n",
       "        text-align: right;\n",
       "    }\n",
       "</style>\n",
       "<table border=\"1\" class=\"dataframe\">\n",
       "  <thead>\n",
       "    <tr style=\"text-align: right;\">\n",
       "      <th></th>\n",
       "      <th>Unnamed: 0</th>\n",
       "      <th>realSum</th>\n",
       "      <th>room_type</th>\n",
       "      <th>host_is_superhost</th>\n",
       "      <th>cleanliness_rating</th>\n",
       "      <th>bedrooms</th>\n",
       "      <th>lng</th>\n",
       "      <th>lat</th>\n",
       "      <th>weekends</th>\n",
       "    </tr>\n",
       "  </thead>\n",
       "  <tbody>\n",
       "    <tr>\n",
       "      <th>0</th>\n",
       "      <td>0</td>\n",
       "      <td>474.317499</td>\n",
       "      <td>Entire home/apt</td>\n",
       "      <td>False</td>\n",
       "      <td>10.0</td>\n",
       "      <td>1</td>\n",
       "      <td>2.17556</td>\n",
       "      <td>41.39624</td>\n",
       "      <td>0</td>\n",
       "    </tr>\n",
       "    <tr>\n",
       "      <th>1</th>\n",
       "      <td>1</td>\n",
       "      <td>169.897829</td>\n",
       "      <td>Private room</td>\n",
       "      <td>True</td>\n",
       "      <td>10.0</td>\n",
       "      <td>1</td>\n",
       "      <td>2.14906</td>\n",
       "      <td>41.38714</td>\n",
       "      <td>0</td>\n",
       "    </tr>\n",
       "    <tr>\n",
       "      <th>2</th>\n",
       "      <td>2</td>\n",
       "      <td>161.984779</td>\n",
       "      <td>Private room</td>\n",
       "      <td>False</td>\n",
       "      <td>9.0</td>\n",
       "      <td>1</td>\n",
       "      <td>2.15357</td>\n",
       "      <td>41.37859</td>\n",
       "      <td>0</td>\n",
       "    </tr>\n",
       "    <tr>\n",
       "      <th>3</th>\n",
       "      <td>3</td>\n",
       "      <td>367.956804</td>\n",
       "      <td>Entire home/apt</td>\n",
       "      <td>False</td>\n",
       "      <td>10.0</td>\n",
       "      <td>1</td>\n",
       "      <td>2.16839</td>\n",
       "      <td>41.37390</td>\n",
       "      <td>0</td>\n",
       "    </tr>\n",
       "    <tr>\n",
       "      <th>4</th>\n",
       "      <td>4</td>\n",
       "      <td>196.895292</td>\n",
       "      <td>Private room</td>\n",
       "      <td>False</td>\n",
       "      <td>9.0</td>\n",
       "      <td>1</td>\n",
       "      <td>2.15238</td>\n",
       "      <td>41.37699</td>\n",
       "      <td>0</td>\n",
       "    </tr>\n",
       "    <tr>\n",
       "      <th>5</th>\n",
       "      <td>5</td>\n",
       "      <td>330.951661</td>\n",
       "      <td>Entire home/apt</td>\n",
       "      <td>False</td>\n",
       "      <td>9.0</td>\n",
       "      <td>2</td>\n",
       "      <td>2.18197</td>\n",
       "      <td>41.40842</td>\n",
       "      <td>0</td>\n",
       "    </tr>\n",
       "  </tbody>\n",
       "</table>\n",
       "</div>"
      ],
      "text/plain": [
       "   Unnamed: 0     realSum        room_type  host_is_superhost  \\\n",
       "0           0  474.317499  Entire home/apt              False   \n",
       "1           1  169.897829     Private room               True   \n",
       "2           2  161.984779     Private room              False   \n",
       "3           3  367.956804  Entire home/apt              False   \n",
       "4           4  196.895292     Private room              False   \n",
       "5           5  330.951661  Entire home/apt              False   \n",
       "\n",
       "   cleanliness_rating  bedrooms      lng       lat  weekends  \n",
       "0                10.0         1  2.17556  41.39624         0  \n",
       "1                10.0         1  2.14906  41.38714         0  \n",
       "2                 9.0         1  2.15357  41.37859         0  \n",
       "3                10.0         1  2.16839  41.37390         0  \n",
       "4                 9.0         1  2.15238  41.37699         0  \n",
       "5                 9.0         2  2.18197  41.40842         0  "
      ]
     },
     "execution_count": 34,
     "metadata": {},
     "output_type": "execute_result"
    }
   ],
   "source": [
    "merged_df = pd.concat([BARC_DIA_LABORAL1, BARC_FIN_D_SEM1], axis=0, ignore_index=True)\n",
    "merged_df[:6]"
   ]
  },
  {
   "cell_type": "code",
   "execution_count": 35,
   "id": "06112377",
   "metadata": {},
   "outputs": [],
   "source": [
    "merged_df.to_csv('barcelona.csv', index=False)"
   ]
  },
  {
   "cell_type": "code",
   "execution_count": 14,
   "id": "49da4bcf",
   "metadata": {},
   "outputs": [
    {
     "name": "stdout",
     "output_type": "stream",
     "text": [
      "<class 'pandas.core.frame.DataFrame'>\n",
      "RangeIndex: 1555 entries, 0 to 1554\n",
      "Data columns (total 8 columns):\n",
      " #   Column              Non-Null Count  Dtype  \n",
      "---  ------              --------------  -----  \n",
      " 0   Unnamed: 0          1555 non-null   int64  \n",
      " 1   realSum             1555 non-null   float64\n",
      " 2   room_type           1555 non-null   object \n",
      " 3   host_is_superhost   1555 non-null   bool   \n",
      " 4   cleanliness_rating  1555 non-null   float64\n",
      " 5   bedrooms            1555 non-null   int64  \n",
      " 6   lng                 1555 non-null   float64\n",
      " 7   lat                 1555 non-null   float64\n",
      "dtypes: bool(1), float64(4), int64(2), object(1)\n",
      "memory usage: 86.7+ KB\n",
      "\n",
      "\n",
      "<class 'pandas.core.frame.DataFrame'>\n",
      "RangeIndex: 1278 entries, 0 to 1277\n",
      "Data columns (total 8 columns):\n",
      " #   Column              Non-Null Count  Dtype  \n",
      "---  ------              --------------  -----  \n",
      " 0   Unnamed: 0          1278 non-null   int64  \n",
      " 1   realSum             1278 non-null   float64\n",
      " 2   room_type           1278 non-null   object \n",
      " 3   host_is_superhost   1278 non-null   bool   \n",
      " 4   cleanliness_rating  1278 non-null   float64\n",
      " 5   bedrooms            1278 non-null   int64  \n",
      " 6   lng                 1278 non-null   float64\n",
      " 7   lat                 1278 non-null   float64\n",
      "dtypes: bool(1), float64(4), int64(2), object(1)\n",
      "memory usage: 71.3+ KB\n"
     ]
    }
   ],
   "source": [
    "#PELICULAS = pd.read_csv('./valoracion de contenidos2.csv')\n",
    "BARC_DIA_LABORAL1.info()\n",
    "print(\"\\n\")\n",
    "BARC_FIN_D_SEM1.info()"
   ]
  },
  {
   "cell_type": "code",
   "execution_count": 8,
   "id": "75d58d97",
   "metadata": {},
   "outputs": [],
   "source": [
    "from statistics import mode"
   ]
  },
  {
   "cell_type": "markdown",
   "id": "8f3e5fd3",
   "metadata": {},
   "source": [
    "## Ejercicio 2. Visualización"
   ]
  },
  {
   "cell_type": "markdown",
   "id": "a19a8db0",
   "metadata": {},
   "source": [
    "En este apartado queremos realizar un análisis exploratorio de los datos, apoyándonos de la visualización. En concreto, nos gustaría estudiar las frecuencias y distribuciones de distintos atributos en función del tipo de producción (*Film* o *Series*).\n",
    "\n",
    "Para ello, queremos realizar las distintas representaciones gráficas:"
   ]
  },
  {
   "cell_type": "markdown",
   "id": "3be7ffe1",
   "metadata": {},
   "source": [
    "### 2.1 Diagramas de tarta\n",
    "\n",
    "Mostrar un diagrama de tarta con la frecuencia de aparición de los géneros principales para cada uno de estos conjuntos:\n",
    "    a) Todas las series y películas\n",
    "    b) Solamente para las series\n",
    "    c) Solamente para las películas\n",
    "    \n",
    "Muestra en cada diagrama los porcentajes de cada género principal y responde a estas preguntas:\n",
    "\n",
    "    ¿Cuál es el género principal más frecuente en las series?\n",
    "    ¿Cuál es el género principal más frecuente en las películas?"
   ]
  },
  {
   "cell_type": "code",
   "execution_count": 11,
   "id": "dfac9e02",
   "metadata": {},
   "outputs": [
    {
     "name": "stdout",
     "output_type": "stream",
     "text": [
      "Grafica Barcelona días laborales\n"
     ]
    },
    {
     "data": {
      "text/plain": [
       "<AxesSubplot:ylabel='room_type'>"
      ]
     },
     "execution_count": 11,
     "metadata": {},
     "output_type": "execute_result"
    },
    {
     "data": {
      "image/png": "[encoded data removed]",
      "text/plain": [
       "<Figure size 432x288 with 1 Axes>"
      ]
     },
     "metadata": {},
     "output_type": "display_data"
    }
   ],
   "source": [
    "print(\"Grafica Barcelona días laborales\")\n",
    "BARC_DIA_LABORAL['room_type'].value_counts().plot(kind='pie')"
   ]
  },
  {
   "cell_type": "code",
   "execution_count": 12,
   "id": "18d201e8",
   "metadata": {},
   "outputs": [
    {
     "name": "stdout",
     "output_type": "stream",
     "text": [
      "Barcelona Fin de Semana\n"
     ]
    },
    {
     "data": {
      "text/plain": [
       "<AxesSubplot:ylabel='room_type'>"
      ]
     },
     "execution_count": 12,
     "metadata": {},
     "output_type": "execute_result"
    },
    {
     "data": {
      "image/png": "[encoded data removed]",
      "text/plain": [
       "<Figure size 432x288 with 1 Axes>"
      ]
     },
     "metadata": {},
     "output_type": "display_data"
    }
   ],
   "source": [
    "print(\"Barcelona Fin de Semana\")\n",
    "BARC_FIN_D_SEM['room_type'].value_counts().plot(kind='pie')"
   ]
  },
  {
   "cell_type": "code",
   "execution_count": 13,
   "id": "1750fc01",
   "metadata": {},
   "outputs": [
    {
     "name": "stdout",
     "output_type": "stream",
     "text": [
      "Barcelona días laborales Private room       1185\n",
      "Entire home/apt     362\n",
      "Shared room           8\n",
      "Name: room_type, dtype: int64\n",
      "\n",
      "\n",
      "Barcelona fin de semana Private room       1094\n",
      "Entire home/apt     180\n",
      "Shared room           4\n",
      "Name: room_type, dtype: int64\n"
     ]
    }
   ],
   "source": [
    "print(\"Barcelona días laborales\", BARC_DIA_LABORAL['room_type'].value_counts())\n",
    "print(\"\\n\")\n",
    "print(\"Barcelona fin de semana\", BARC_FIN_D_SEM['room_type'].value_counts())"
   ]
  },
  {
   "cell_type": "code",
   "execution_count": 14,
   "id": "cd08b83a",
   "metadata": {},
   "outputs": [
    {
     "data": {
      "text/plain": [
       "<AxesSubplot:ylabel='room_type'>"
      ]
     },
     "execution_count": 14,
     "metadata": {},
     "output_type": "execute_result"
    },
    {
     "data": {
      "image/png": "[encoded data removed]",
      "text/plain": [
       "<Figure size 432x288 with 1 Axes>"
      ]
     },
     "metadata": {},
     "output_type": "display_data"
    }
   ],
   "source": [
    "BARC_DIA_LABORAL[(BARC_DIA_LABORAL['host_is_superhost'] == True)]['room_type'].value_counts().plot(kind='pie')"
   ]
  },
  {
   "cell_type": "code",
   "execution_count": 15,
   "id": "f71d6766",
   "metadata": {},
   "outputs": [
    {
     "data": {
      "text/plain": [
       "<AxesSubplot:ylabel='room_type'>"
      ]
     },
     "execution_count": 15,
     "metadata": {},
     "output_type": "execute_result"
    },
    {
     "data": {
      "image/png": "[encoded data removed]",
      "text/plain": [
       "<Figure size 432x288 with 1 Axes>"
      ]
     },
     "metadata": {},
     "output_type": "display_data"
    }
   ],
   "source": [
    "BARC_FIN_D_SEM[(BARC_FIN_D_SEM['host_is_superhost'] == True)]['room_type'].value_counts().plot(kind='pie')"
   ]
  },
  {
   "cell_type": "markdown",
   "id": "8d467451",
   "metadata": {},
   "source": [
    "### 2.2 Diagrama de barras\n",
    "\n",
    "Mostrar un diagrama de barras (o un histograma) con la frecuencia de aparición de las distintas clasificaciones, según el atributo *Certificate*. (https://es.wikipedia.org/wiki/Sistema_de_calificaciones_de_la_Motion_Picture_Association)\n",
    "\n",
    "Divide cada una de las barras del histograma en dos, haciendo uso del atributo *Type*, y compara las certificaciones para ambos tipos de producciones, series y películas.\n",
    "\n",
    "Realiza una breve interpretación de la representación obtenida."
   ]
  },
  {
   "cell_type": "code",
   "execution_count": 24,
   "id": "c1d46d90",
   "metadata": {},
   "outputs": [
    {
     "data": {
      "text/html": [
       "<div>\n",
       "<style scoped>\n",
       "    .dataframe tbody tr th:only-of-type {\n",
       "        vertical-align: middle;\n",
       "    }\n",
       "\n",
       "    .dataframe tbody tr th {\n",
       "        vertical-align: top;\n",
       "    }\n",
       "\n",
       "    .dataframe thead th {\n",
       "        text-align: right;\n",
       "    }\n",
       "</style>\n",
       "<table border=\"1\" class=\"dataframe\">\n",
       "  <thead>\n",
       "    <tr style=\"text-align: right;\">\n",
       "      <th></th>\n",
       "      <th>Date</th>\n",
       "      <th>Rate</th>\n",
       "      <th>Votes</th>\n",
       "      <th>Main genre</th>\n",
       "      <th>Duration</th>\n",
       "      <th>Type</th>\n",
       "      <th>Certificate</th>\n",
       "      <th>Episodes</th>\n",
       "      <th>Nudity</th>\n",
       "      <th>Violence</th>\n",
       "      <th>Profanity</th>\n",
       "      <th>Alcohol</th>\n",
       "      <th>Frightening</th>\n",
       "    </tr>\n",
       "  </thead>\n",
       "  <tbody>\n",
       "    <tr>\n",
       "      <th>0</th>\n",
       "      <td>2021</td>\n",
       "      <td>7.6</td>\n",
       "      <td>107163.0</td>\n",
       "      <td>Action</td>\n",
       "      <td>163.0</td>\n",
       "      <td>Film</td>\n",
       "      <td>PG-13</td>\n",
       "      <td>1.0</td>\n",
       "      <td>Mild</td>\n",
       "      <td>Moderate</td>\n",
       "      <td>Mild</td>\n",
       "      <td>Mild</td>\n",
       "      <td>Moderate</td>\n",
       "    </tr>\n",
       "    <tr>\n",
       "      <th>1</th>\n",
       "      <td>2021</td>\n",
       "      <td>6.3</td>\n",
       "      <td>64375.0</td>\n",
       "      <td>Crime</td>\n",
       "      <td>90.0</td>\n",
       "      <td>Film</td>\n",
       "      <td>R</td>\n",
       "      <td>1.0</td>\n",
       "      <td>None</td>\n",
       "      <td>None</td>\n",
       "      <td>Severe</td>\n",
       "      <td>None</td>\n",
       "      <td>Moderate</td>\n",
       "    </tr>\n",
       "    <tr>\n",
       "      <th>2</th>\n",
       "      <td>2021</td>\n",
       "      <td>6.4</td>\n",
       "      <td>27145.0</td>\n",
       "      <td>Crime</td>\n",
       "      <td>120.0</td>\n",
       "      <td>Film</td>\n",
       "      <td>R</td>\n",
       "      <td>1.0</td>\n",
       "      <td>Moderate</td>\n",
       "      <td>Severe</td>\n",
       "      <td>Severe</td>\n",
       "      <td>Moderate</td>\n",
       "      <td>Moderate</td>\n",
       "    </tr>\n",
       "    <tr>\n",
       "      <th>3</th>\n",
       "      <td>2021</td>\n",
       "      <td>6.4</td>\n",
       "      <td>30443.0</td>\n",
       "      <td>Action</td>\n",
       "      <td>97.0</td>\n",
       "      <td>Film</td>\n",
       "      <td>PG-13</td>\n",
       "      <td>1.0</td>\n",
       "      <td>None</td>\n",
       "      <td>Moderate</td>\n",
       "      <td>Moderate</td>\n",
       "      <td>Mild</td>\n",
       "      <td>Moderate</td>\n",
       "    </tr>\n",
       "    <tr>\n",
       "      <th>4</th>\n",
       "      <td>2021</td>\n",
       "      <td>8.3</td>\n",
       "      <td>84636.0</td>\n",
       "      <td>Action</td>\n",
       "      <td>155.0</td>\n",
       "      <td>Film</td>\n",
       "      <td>PG-13</td>\n",
       "      <td>1.0</td>\n",
       "      <td>None</td>\n",
       "      <td>Moderate</td>\n",
       "      <td>None</td>\n",
       "      <td>Mild</td>\n",
       "      <td>Moderate</td>\n",
       "    </tr>\n",
       "    <tr>\n",
       "      <th>...</th>\n",
       "      <td>...</td>\n",
       "      <td>...</td>\n",
       "      <td>...</td>\n",
       "      <td>...</td>\n",
       "      <td>...</td>\n",
       "      <td>...</td>\n",
       "      <td>...</td>\n",
       "      <td>...</td>\n",
       "      <td>...</td>\n",
       "      <td>...</td>\n",
       "      <td>...</td>\n",
       "      <td>...</td>\n",
       "      <td>...</td>\n",
       "    </tr>\n",
       "    <tr>\n",
       "      <th>6173</th>\n",
       "      <td>2011</td>\n",
       "      <td>3.8</td>\n",
       "      <td>37492.0</td>\n",
       "      <td>Horror</td>\n",
       "      <td>91.0</td>\n",
       "      <td>Film</td>\n",
       "      <td>Not Rated</td>\n",
       "      <td>1.0</td>\n",
       "      <td>Severe</td>\n",
       "      <td>Severe</td>\n",
       "      <td>Severe</td>\n",
       "      <td>Mild</td>\n",
       "      <td>Severe</td>\n",
       "    </tr>\n",
       "    <tr>\n",
       "      <th>6174</th>\n",
       "      <td>1944</td>\n",
       "      <td>8.3</td>\n",
       "      <td>150448.0</td>\n",
       "      <td>Crime</td>\n",
       "      <td>107.0</td>\n",
       "      <td>Film</td>\n",
       "      <td>Passed</td>\n",
       "      <td>1.0</td>\n",
       "      <td>None</td>\n",
       "      <td>Mild</td>\n",
       "      <td>None</td>\n",
       "      <td>Mild</td>\n",
       "      <td>Mild</td>\n",
       "    </tr>\n",
       "    <tr>\n",
       "      <th>6175</th>\n",
       "      <td>2007</td>\n",
       "      <td>7.3</td>\n",
       "      <td>100668.0</td>\n",
       "      <td>Crime</td>\n",
       "      <td>117.0</td>\n",
       "      <td>Film</td>\n",
       "      <td>R</td>\n",
       "      <td>1.0</td>\n",
       "      <td>Severe</td>\n",
       "      <td>Moderate</td>\n",
       "      <td>Severe</td>\n",
       "      <td>Severe</td>\n",
       "      <td>Severe</td>\n",
       "    </tr>\n",
       "    <tr>\n",
       "      <th>6176</th>\n",
       "      <td>2021</td>\n",
       "      <td>6.0</td>\n",
       "      <td>887.0</td>\n",
       "      <td>Comedy</td>\n",
       "      <td>100.0</td>\n",
       "      <td>Film</td>\n",
       "      <td>PG-13</td>\n",
       "      <td>1.0</td>\n",
       "      <td>None</td>\n",
       "      <td>None</td>\n",
       "      <td>Mild</td>\n",
       "      <td>Moderate</td>\n",
       "      <td>None</td>\n",
       "    </tr>\n",
       "    <tr>\n",
       "      <th>6177</th>\n",
       "      <td>2008</td>\n",
       "      <td>6.3</td>\n",
       "      <td>203578.0</td>\n",
       "      <td>Action</td>\n",
       "      <td>105.0</td>\n",
       "      <td>Film</td>\n",
       "      <td>R</td>\n",
       "      <td>1.0</td>\n",
       "      <td>Mild</td>\n",
       "      <td>Severe</td>\n",
       "      <td>Severe</td>\n",
       "      <td>Mild</td>\n",
       "      <td>Moderate</td>\n",
       "    </tr>\n",
       "  </tbody>\n",
       "</table>\n",
       "<p>6178 rows × 13 columns</p>\n",
       "</div>"
      ],
      "text/plain": [
       "      Date  Rate     Votes Main genre  Duration  Type Certificate  Episodes  \\\n",
       "0     2021   7.6  107163.0     Action     163.0  Film       PG-13       1.0   \n",
       "1     2021   6.3   64375.0      Crime      90.0  Film           R       1.0   \n",
       "2     2021   6.4   27145.0      Crime     120.0  Film           R       1.0   \n",
       "3     2021   6.4   30443.0     Action      97.0  Film       PG-13       1.0   \n",
       "4     2021   8.3   84636.0     Action     155.0  Film       PG-13       1.0   \n",
       "...    ...   ...       ...        ...       ...   ...         ...       ...   \n",
       "6173  2011   3.8   37492.0     Horror      91.0  Film   Not Rated       1.0   \n",
       "6174  1944   8.3  150448.0      Crime     107.0  Film      Passed       1.0   \n",
       "6175  2007   7.3  100668.0      Crime     117.0  Film           R       1.0   \n",
       "6176  2021   6.0     887.0     Comedy     100.0  Film       PG-13       1.0   \n",
       "6177  2008   6.3  203578.0     Action     105.0  Film           R       1.0   \n",
       "\n",
       "        Nudity  Violence Profanity   Alcohol Frightening  \n",
       "0         Mild  Moderate      Mild      Mild    Moderate  \n",
       "1         None      None    Severe      None    Moderate  \n",
       "2     Moderate    Severe    Severe  Moderate    Moderate  \n",
       "3         None  Moderate  Moderate      Mild    Moderate  \n",
       "4         None  Moderate      None      Mild    Moderate  \n",
       "...        ...       ...       ...       ...         ...  \n",
       "6173    Severe    Severe    Severe      Mild      Severe  \n",
       "6174      None      Mild      None      Mild        Mild  \n",
       "6175    Severe  Moderate    Severe    Severe      Severe  \n",
       "6176      None      None      Mild  Moderate        None  \n",
       "6177      Mild    Severe    Severe      Mild    Moderate  \n",
       "\n",
       "[6178 rows x 13 columns]"
      ]
     },
     "execution_count": 24,
     "metadata": {},
     "output_type": "execute_result"
    }
   ],
   "source": [
    "# llamo a la tabla para poder visionar bien la información\n",
    "PELICULAS"
   ]
  },
  {
   "cell_type": "code",
   "execution_count": 25,
   "id": "05c4c1bd",
   "metadata": {},
   "outputs": [
    {
     "data": {
      "text/plain": [
       "(array([ 0,  1,  2,  3,  4,  5,  6,  7,  8,  9, 10, 11, 12, 13, 14, 15, 16,\n",
       "        17, 18, 19, 20, 21, 22]),\n",
       " [Text(0, 0, 'PG-13'),\n",
       "  Text(1, 0, 'R'),\n",
       "  Text(2, 0, 'TV-MA'),\n",
       "  Text(3, 0, 'None'),\n",
       "  Text(4, 0, 'TV-14'),\n",
       "  Text(5, 0, 'TV-PG'),\n",
       "  Text(6, 0, 'PG'),\n",
       "  Text(7, 0, 'TV-G'),\n",
       "  Text(8, 0, '(Banned)'),\n",
       "  Text(9, 0, 'Not Rated'),\n",
       "  Text(10, 0, 'E'),\n",
       "  Text(11, 0, 'NC-17'),\n",
       "  Text(12, 0, 'TV-Y7-FV'),\n",
       "  Text(13, 0, 'TV-Y7'),\n",
       "  Text(14, 0, 'Unrated'),\n",
       "  Text(15, 0, 'Approved'),\n",
       "  Text(16, 0, 'G'),\n",
       "  Text(17, 0, 'TV-Y'),\n",
       "  Text(18, 0, 'GP'),\n",
       "  Text(19, 0, 'Passed'),\n",
       "  Text(20, 0, 'M'),\n",
       "  Text(21, 0, 'X'),\n",
       "  Text(22, 0, 'M/PG')])"
      ]
     },
     "execution_count": 25,
     "metadata": {},
     "output_type": "execute_result"
    },
    {
     "data": {
      "image/png": "[encoded data removed]",
      "text/plain": [
       "<Figure size 432x288 with 1 Axes>"
      ]
     },
     "metadata": {
      "needs_background": "light"
     },
     "output_type": "display_data"
    }
   ],
   "source": [
    "sns.countplot(data=PELICULAS, x='Certificate', hue='Type')\n",
    "plt.xticks(rotation=45)"
   ]
  },
  {
   "cell_type": "code",
   "execution_count": 16,
   "id": "f4e0d304",
   "metadata": {},
   "outputs": [
    {
     "data": {
      "text/html": [
       "<div>\n",
       "<style scoped>\n",
       "    .dataframe tbody tr th:only-of-type {\n",
       "        vertical-align: middle;\n",
       "    }\n",
       "\n",
       "    .dataframe tbody tr th {\n",
       "        vertical-align: top;\n",
       "    }\n",
       "\n",
       "    .dataframe thead th {\n",
       "        text-align: right;\n",
       "    }\n",
       "</style>\n",
       "<table border=\"1\" class=\"dataframe\">\n",
       "  <thead>\n",
       "    <tr style=\"text-align: right;\">\n",
       "      <th></th>\n",
       "      <th>Unnamed: 0</th>\n",
       "      <th>realSum</th>\n",
       "      <th>room_type</th>\n",
       "      <th>room_shared</th>\n",
       "      <th>room_private</th>\n",
       "      <th>person_capacity</th>\n",
       "      <th>host_is_superhost</th>\n",
       "      <th>multi</th>\n",
       "      <th>biz</th>\n",
       "      <th>cleanliness_rating</th>\n",
       "      <th>guest_satisfaction_overall</th>\n",
       "      <th>bedrooms</th>\n",
       "      <th>dist</th>\n",
       "      <th>metro_dist</th>\n",
       "      <th>attr_index</th>\n",
       "      <th>attr_index_norm</th>\n",
       "      <th>rest_index</th>\n",
       "      <th>rest_index_norm</th>\n",
       "      <th>lng</th>\n",
       "      <th>lat</th>\n",
       "    </tr>\n",
       "  </thead>\n",
       "  <tbody>\n",
       "    <tr>\n",
       "      <th>0</th>\n",
       "      <td>0</td>\n",
       "      <td>474.317499</td>\n",
       "      <td>Entire home/apt</td>\n",
       "      <td>False</td>\n",
       "      <td>False</td>\n",
       "      <td>4.0</td>\n",
       "      <td>False</td>\n",
       "      <td>0</td>\n",
       "      <td>1</td>\n",
       "      <td>10.0</td>\n",
       "      <td>91.0</td>\n",
       "      <td>1</td>\n",
       "      <td>1.111996</td>\n",
       "      <td>0.630491</td>\n",
       "      <td>526.469420</td>\n",
       "      <td>17.942927</td>\n",
       "      <td>915.587083</td>\n",
       "      <td>20.154890</td>\n",
       "      <td>2.17556</td>\n",
       "      <td>41.39624</td>\n",
       "    </tr>\n",
       "    <tr>\n",
       "      <th>1</th>\n",
       "      <td>1</td>\n",
       "      <td>169.897829</td>\n",
       "      <td>Private room</td>\n",
       "      <td>False</td>\n",
       "      <td>True</td>\n",
       "      <td>2.0</td>\n",
       "      <td>True</td>\n",
       "      <td>1</td>\n",
       "      <td>0</td>\n",
       "      <td>10.0</td>\n",
       "      <td>88.0</td>\n",
       "      <td>1</td>\n",
       "      <td>1.751839</td>\n",
       "      <td>0.124017</td>\n",
       "      <td>320.127526</td>\n",
       "      <td>10.910462</td>\n",
       "      <td>794.277350</td>\n",
       "      <td>17.484489</td>\n",
       "      <td>2.14906</td>\n",
       "      <td>41.38714</td>\n",
       "    </tr>\n",
       "    <tr>\n",
       "      <th>2</th>\n",
       "      <td>2</td>\n",
       "      <td>161.984779</td>\n",
       "      <td>Private room</td>\n",
       "      <td>False</td>\n",
       "      <td>True</td>\n",
       "      <td>4.0</td>\n",
       "      <td>False</td>\n",
       "      <td>0</td>\n",
       "      <td>1</td>\n",
       "      <td>9.0</td>\n",
       "      <td>88.0</td>\n",
       "      <td>1</td>\n",
       "      <td>1.670493</td>\n",
       "      <td>0.080322</td>\n",
       "      <td>344.073936</td>\n",
       "      <td>11.726595</td>\n",
       "      <td>840.673617</td>\n",
       "      <td>18.505814</td>\n",
       "      <td>2.15357</td>\n",
       "      <td>41.37859</td>\n",
       "    </tr>\n",
       "    <tr>\n",
       "      <th>3</th>\n",
       "      <td>3</td>\n",
       "      <td>367.956804</td>\n",
       "      <td>Entire home/apt</td>\n",
       "      <td>False</td>\n",
       "      <td>False</td>\n",
       "      <td>3.0</td>\n",
       "      <td>False</td>\n",
       "      <td>0</td>\n",
       "      <td>1</td>\n",
       "      <td>10.0</td>\n",
       "      <td>91.0</td>\n",
       "      <td>1</td>\n",
       "      <td>1.475847</td>\n",
       "      <td>0.093107</td>\n",
       "      <td>400.057449</td>\n",
       "      <td>13.634603</td>\n",
       "      <td>946.589884</td>\n",
       "      <td>20.837357</td>\n",
       "      <td>2.16839</td>\n",
       "      <td>41.37390</td>\n",
       "    </tr>\n",
       "    <tr>\n",
       "      <th>4</th>\n",
       "      <td>4</td>\n",
       "      <td>196.895292</td>\n",
       "      <td>Private room</td>\n",
       "      <td>False</td>\n",
       "      <td>True</td>\n",
       "      <td>3.0</td>\n",
       "      <td>False</td>\n",
       "      <td>1</td>\n",
       "      <td>0</td>\n",
       "      <td>9.0</td>\n",
       "      <td>91.0</td>\n",
       "      <td>1</td>\n",
       "      <td>1.855452</td>\n",
       "      <td>0.272486</td>\n",
       "      <td>346.042245</td>\n",
       "      <td>11.793678</td>\n",
       "      <td>792.296039</td>\n",
       "      <td>17.440874</td>\n",
       "      <td>2.15238</td>\n",
       "      <td>41.37699</td>\n",
       "    </tr>\n",
       "    <tr>\n",
       "      <th>...</th>\n",
       "      <td>...</td>\n",
       "      <td>...</td>\n",
       "      <td>...</td>\n",
       "      <td>...</td>\n",
       "      <td>...</td>\n",
       "      <td>...</td>\n",
       "      <td>...</td>\n",
       "      <td>...</td>\n",
       "      <td>...</td>\n",
       "      <td>...</td>\n",
       "      <td>...</td>\n",
       "      <td>...</td>\n",
       "      <td>...</td>\n",
       "      <td>...</td>\n",
       "      <td>...</td>\n",
       "      <td>...</td>\n",
       "      <td>...</td>\n",
       "      <td>...</td>\n",
       "      <td>...</td>\n",
       "      <td>...</td>\n",
       "    </tr>\n",
       "    <tr>\n",
       "      <th>1550</th>\n",
       "      <td>1550</td>\n",
       "      <td>769.660437</td>\n",
       "      <td>Entire home/apt</td>\n",
       "      <td>False</td>\n",
       "      <td>False</td>\n",
       "      <td>6.0</td>\n",
       "      <td>False</td>\n",
       "      <td>0</td>\n",
       "      <td>1</td>\n",
       "      <td>8.0</td>\n",
       "      <td>84.0</td>\n",
       "      <td>3</td>\n",
       "      <td>2.503374</td>\n",
       "      <td>0.554007</td>\n",
       "      <td>266.281630</td>\n",
       "      <td>9.075307</td>\n",
       "      <td>678.961341</td>\n",
       "      <td>14.946029</td>\n",
       "      <td>2.19991</td>\n",
       "      <td>41.38834</td>\n",
       "    </tr>\n",
       "    <tr>\n",
       "      <th>1551</th>\n",
       "      <td>1551</td>\n",
       "      <td>318.151139</td>\n",
       "      <td>Private room</td>\n",
       "      <td>False</td>\n",
       "      <td>True</td>\n",
       "      <td>2.0</td>\n",
       "      <td>True</td>\n",
       "      <td>1</td>\n",
       "      <td>0</td>\n",
       "      <td>9.0</td>\n",
       "      <td>98.0</td>\n",
       "      <td>1</td>\n",
       "      <td>2.619616</td>\n",
       "      <td>0.761843</td>\n",
       "      <td>256.669559</td>\n",
       "      <td>8.747713</td>\n",
       "      <td>557.672173</td>\n",
       "      <td>12.276081</td>\n",
       "      <td>2.20066</td>\n",
       "      <td>41.39204</td>\n",
       "    </tr>\n",
       "    <tr>\n",
       "      <th>1552</th>\n",
       "      <td>1552</td>\n",
       "      <td>248.562851</td>\n",
       "      <td>Private room</td>\n",
       "      <td>False</td>\n",
       "      <td>True</td>\n",
       "      <td>2.0</td>\n",
       "      <td>True</td>\n",
       "      <td>1</td>\n",
       "      <td>0</td>\n",
       "      <td>10.0</td>\n",
       "      <td>98.0</td>\n",
       "      <td>1</td>\n",
       "      <td>2.700091</td>\n",
       "      <td>0.866258</td>\n",
       "      <td>250.530700</td>\n",
       "      <td>8.538490</td>\n",
       "      <td>539.136706</td>\n",
       "      <td>11.868058</td>\n",
       "      <td>2.20140</td>\n",
       "      <td>41.39286</td>\n",
       "    </tr>\n",
       "    <tr>\n",
       "      <th>1553</th>\n",
       "      <td>1553</td>\n",
       "      <td>1770.661205</td>\n",
       "      <td>Entire home/apt</td>\n",
       "      <td>False</td>\n",
       "      <td>False</td>\n",
       "      <td>6.0</td>\n",
       "      <td>True</td>\n",
       "      <td>0</td>\n",
       "      <td>1</td>\n",
       "      <td>10.0</td>\n",
       "      <td>100.0</td>\n",
       "      <td>3</td>\n",
       "      <td>2.401191</td>\n",
       "      <td>0.461678</td>\n",
       "      <td>277.522208</td>\n",
       "      <td>9.458404</td>\n",
       "      <td>676.248720</td>\n",
       "      <td>14.886316</td>\n",
       "      <td>2.19873</td>\n",
       "      <td>41.38724</td>\n",
       "    </tr>\n",
       "    <tr>\n",
       "      <th>1554</th>\n",
       "      <td>1554</td>\n",
       "      <td>543.905788</td>\n",
       "      <td>Entire home/apt</td>\n",
       "      <td>False</td>\n",
       "      <td>False</td>\n",
       "      <td>4.0</td>\n",
       "      <td>False</td>\n",
       "      <td>1</td>\n",
       "      <td>0</td>\n",
       "      <td>9.0</td>\n",
       "      <td>94.0</td>\n",
       "      <td>1</td>\n",
       "      <td>2.403086</td>\n",
       "      <td>0.607264</td>\n",
       "      <td>276.837633</td>\n",
       "      <td>9.435073</td>\n",
       "      <td>584.713179</td>\n",
       "      <td>12.871337</td>\n",
       "      <td>2.19796</td>\n",
       "      <td>41.39219</td>\n",
       "    </tr>\n",
       "  </tbody>\n",
       "</table>\n",
       "<p>1555 rows × 20 columns</p>\n",
       "</div>"
      ],
      "text/plain": [
       "      Unnamed: 0      realSum        room_type  room_shared  room_private  \\\n",
       "0              0   474.317499  Entire home/apt        False         False   \n",
       "1              1   169.897829     Private room        False          True   \n",
       "2              2   161.984779     Private room        False          True   \n",
       "3              3   367.956804  Entire home/apt        False         False   \n",
       "4              4   196.895292     Private room        False          True   \n",
       "...          ...          ...              ...          ...           ...   \n",
       "1550        1550   769.660437  Entire home/apt        False         False   \n",
       "1551        1551   318.151139     Private room        False          True   \n",
       "1552        1552   248.562851     Private room        False          True   \n",
       "1553        1553  1770.661205  Entire home/apt        False         False   \n",
       "1554        1554   543.905788  Entire home/apt        False         False   \n",
       "\n",
       "      person_capacity  host_is_superhost  multi  biz  cleanliness_rating  \\\n",
       "0                 4.0              False      0    1                10.0   \n",
       "1                 2.0               True      1    0                10.0   \n",
       "2                 4.0              False      0    1                 9.0   \n",
       "3                 3.0              False      0    1                10.0   \n",
       "4                 3.0              False      1    0                 9.0   \n",
       "...               ...                ...    ...  ...                 ...   \n",
       "1550              6.0              False      0    1                 8.0   \n",
       "1551              2.0               True      1    0                 9.0   \n",
       "1552              2.0               True      1    0                10.0   \n",
       "1553              6.0               True      0    1                10.0   \n",
       "1554              4.0              False      1    0                 9.0   \n",
       "\n",
       "      guest_satisfaction_overall  bedrooms      dist  metro_dist  attr_index  \\\n",
       "0                           91.0         1  1.111996    0.630491  526.469420   \n",
       "1                           88.0         1  1.751839    0.124017  320.127526   \n",
       "2                           88.0         1  1.670493    0.080322  344.073936   \n",
       "3                           91.0         1  1.475847    0.093107  400.057449   \n",
       "4                           91.0         1  1.855452    0.272486  346.042245   \n",
       "...                          ...       ...       ...         ...         ...   \n",
       "1550                        84.0         3  2.503374    0.554007  266.281630   \n",
       "1551                        98.0         1  2.619616    0.761843  256.669559   \n",
       "1552                        98.0         1  2.700091    0.866258  250.530700   \n",
       "1553                       100.0         3  2.401191    0.461678  277.522208   \n",
       "1554                        94.0         1  2.403086    0.607264  276.837633   \n",
       "\n",
       "      attr_index_norm  rest_index  rest_index_norm      lng       lat  \n",
       "0           17.942927  915.587083        20.154890  2.17556  41.39624  \n",
       "1           10.910462  794.277350        17.484489  2.14906  41.38714  \n",
       "2           11.726595  840.673617        18.505814  2.15357  41.37859  \n",
       "3           13.634603  946.589884        20.837357  2.16839  41.37390  \n",
       "4           11.793678  792.296039        17.440874  2.15238  41.37699  \n",
       "...               ...         ...              ...      ...       ...  \n",
       "1550         9.075307  678.961341        14.946029  2.19991  41.38834  \n",
       "1551         8.747713  557.672173        12.276081  2.20066  41.39204  \n",
       "1552         8.538490  539.136706        11.868058  2.20140  41.39286  \n",
       "1553         9.458404  676.248720        14.886316  2.19873  41.38724  \n",
       "1554         9.435073  584.713179        12.871337  2.19796  41.39219  \n",
       "\n",
       "[1555 rows x 20 columns]"
      ]
     },
     "execution_count": 16,
     "metadata": {},
     "output_type": "execute_result"
    }
   ],
   "source": [
    "BARC_DIA_LABORAL"
   ]
  },
  {
   "cell_type": "code",
   "execution_count": 19,
   "id": "e159b2a3",
   "metadata": {},
   "outputs": [
    {
     "data": {
      "text/plain": [
       "(array([0, 1, 2, 3, 4]),\n",
       " [Text(0, 0, '2.0'),\n",
       "  Text(1, 0, '3.0'),\n",
       "  Text(2, 0, '4.0'),\n",
       "  Text(3, 0, '5.0'),\n",
       "  Text(4, 0, '6.0')])"
      ]
     },
     "execution_count": 19,
     "metadata": {},
     "output_type": "execute_result"
    },
    {
     "data": {
      "image/png": "[encoded data removed]",
      "text/plain": [
       "<Figure size 432x288 with 1 Axes>"
      ]
     },
     "metadata": {
      "needs_background": "light"
     },
     "output_type": "display_data"
    }
   ],
   "source": [
    "sns.countplot(data=BARC_DIA_LABORAL, x='person_capacity', hue='room_type')\n",
    "plt.xticks(rotation=45)"
   ]
  },
  {
   "cell_type": "code",
   "execution_count": null,
   "id": "c7ce4360",
   "metadata": {},
   "outputs": [],
   "source": [
    "# se puede observar que existen muchos mas certificados de tipo \"PG-13\" y de tipo \"R\" para películas\n",
    "# y que por ejemplo, hay más certificados de tipo \"TV-MA\" y \"TV-14\" en series con respecto a las películas"
   ]
  },
  {
   "cell_type": "markdown",
   "id": "10f17bee",
   "metadata": {},
   "source": [
    "### 2.3 Histograma con estimación KDE\n",
    "\n",
    "Mostrar un diagrama con histograma y estimación KDE de la distribución de probabilidad del atributo valoración, en función del tipo de producción (realizar un ajuste del parámetro bins para una mejor visualización)\n",
    "\n",
    "Realiza una breve interpretación de la representación obtenida."
   ]
  },
  {
   "cell_type": "code",
   "execution_count": 20,
   "id": "e700a5e2",
   "metadata": {},
   "outputs": [
    {
     "data": {
      "text/plain": [
       "<seaborn.axisgrid.FacetGrid at 0x1edbe54c1c0>"
      ]
     },
     "execution_count": 20,
     "metadata": {},
     "output_type": "execute_result"
    },
    {
     "data": {
      "image/png": "[encoded data removed]",
      "text/plain": [
       "<Figure size 360x360 with 1 Axes>"
      ]
     },
     "metadata": {
      "needs_background": "light"
     },
     "output_type": "display_data"
    }
   ],
   "source": [
    "sns.displot(BARC_DIA_LABORAL, x ='dist', kde=True, bins=15)"
   ]
  },
  {
   "cell_type": "code",
   "execution_count": null,
   "id": "403e43b2",
   "metadata": {},
   "outputs": [],
   "source": [
    "# cada observación aumenta la densidad de probabilidad en la zona donde se encuentra"
   ]
  },
  {
   "cell_type": "markdown",
   "id": "6d1d8f4a",
   "metadata": {},
   "source": [
    "### 2.4 Diagrama de puntos\n",
    "\n",
    "Genera diagrama de puntos para mostrar la distribución de la valoración (*Rate*) frente al año de producción (*Date*), usando el número de votos *Votes* para la intensidad del color.\n",
    "\n",
    "Realiza una breve interpretación de la representación obtenida."
   ]
  },
  {
   "cell_type": "code",
   "execution_count": 27,
   "id": "4308000d",
   "metadata": {},
   "outputs": [
    {
     "data": {
      "text/plain": [
       "<AxesSubplot:xlabel='Rate', ylabel='Date'>"
      ]
     },
     "execution_count": 27,
     "metadata": {},
     "output_type": "execute_result"
    },
    {
     "data": {
      "image/png": "[encoded data removed]",
      "text/plain": [
       "<Figure size 432x288 with 1 Axes>"
      ]
     },
     "metadata": {
      "needs_background": "light"
     },
     "output_type": "display_data"
    }
   ],
   "source": [
    "PELICULAS.plot(x='Rate', y='Date', kind='scatter')"
   ]
  },
  {
   "cell_type": "code",
   "execution_count": null,
   "id": "2357a97c",
   "metadata": {},
   "outputs": [],
   "source": [
    "# cada punto representa una linea de la tabla, básicamente estamos viendo la valoración por años"
   ]
  },
  {
   "cell_type": "markdown",
   "id": "9ca36b57",
   "metadata": {},
   "source": [
    "### 2.5 Función de densidad de probabilidad KDE\n",
    "\n",
    "Analiza las distribuciones de probabilidad para el atributo valoración (*Rate*) según los distintos tipos de contenido (*Nudity*,*Violence*,*Profanity*,*Alcohol*,*Frightening*), de forma separada para cada tipo de producción (*Film* y *Series*)<br>\n",
    "\n",
    "Realiza una breve interpretación de las gráficas obtenidas.\n",
    "\n"
   ]
  },
  {
   "cell_type": "code",
   "execution_count": 28,
   "id": "ee35927e",
   "metadata": {},
   "outputs": [
    {
     "data": {
      "text/plain": [
       "<seaborn.axisgrid.FacetGrid at 0x16990306520>"
      ]
     },
     "execution_count": 28,
     "metadata": {},
     "output_type": "execute_result"
    },
    {
     "data": {
      "image/png": "[encoded data removed]",
      "text/plain": [
       "<Figure size 443.375x360 with 1 Axes>"
      ]
     },
     "metadata": {
      "needs_background": "light"
     },
     "output_type": "display_data"
    }
   ],
   "source": [
    "sns.displot(PELICULAS, x ='Rate', kind='kde', hue='Nudity')"
   ]
  },
  {
   "cell_type": "code",
   "execution_count": null,
   "id": "98ccc605",
   "metadata": {},
   "outputs": [],
   "source": [
    "# suelen tener escenas de desnudos leves (mind)"
   ]
  },
  {
   "cell_type": "code",
   "execution_count": 29,
   "id": "3eb913f8",
   "metadata": {},
   "outputs": [
    {
     "data": {
      "text/plain": [
       "<seaborn.axisgrid.FacetGrid at 0x16990306550>"
      ]
     },
     "execution_count": 29,
     "metadata": {},
     "output_type": "execute_result"
    },
    {
     "data": {
      "image/png": "[encoded data removed]",
      "text/plain": [
       "<Figure size 443.375x360 with 1 Axes>"
      ]
     },
     "metadata": {
      "needs_background": "light"
     },
     "output_type": "display_data"
    }
   ],
   "source": [
    "sns.displot(PELICULAS, x ='Rate', kind='kde', hue='Violence')"
   ]
  },
  {
   "cell_type": "code",
   "execution_count": null,
   "id": "b9c91f71",
   "metadata": {},
   "outputs": [],
   "source": [
    "# suelen tener escenas de violencia moderas y leves, aunque existe un pico en las leves"
   ]
  },
  {
   "cell_type": "code",
   "execution_count": 30,
   "id": "a8776e38",
   "metadata": {},
   "outputs": [
    {
     "data": {
      "text/plain": [
       "<seaborn.axisgrid.FacetGrid at 0x1698e2c82b0>"
      ]
     },
     "execution_count": 30,
     "metadata": {},
     "output_type": "execute_result"
    },
    {
     "data": {
      "image/png": "[encoded data removed]",
      "text/plain": [
       "<Figure size 443.375x360 with 1 Axes>"
      ]
     },
     "metadata": {
      "needs_background": "light"
     },
     "output_type": "display_data"
    }
   ],
   "source": [
    "sns.displot(PELICULAS, x ='Rate', kind='kde', hue='Profanity')"
   ]
  },
  {
   "cell_type": "code",
   "execution_count": null,
   "id": "dd3682d4",
   "metadata": {},
   "outputs": [],
   "source": [
    "# suelen tener escenas de blasfemia leves y moderadas"
   ]
  },
  {
   "cell_type": "code",
   "execution_count": 31,
   "id": "e9ba801b",
   "metadata": {},
   "outputs": [
    {
     "data": {
      "text/plain": [
       "<seaborn.axisgrid.FacetGrid at 0x1698e15abe0>"
      ]
     },
     "execution_count": 31,
     "metadata": {},
     "output_type": "execute_result"
    },
    {
     "data": {
      "image/png": "[encoded data removed]",
      "text/plain": [
       "<Figure size 443.375x360 with 1 Axes>"
      ]
     },
     "metadata": {
      "needs_background": "light"
     },
     "output_type": "display_data"
    }
   ],
   "source": [
    "sns.displot(PELICULAS, x ='Rate', kind='kde', hue='Alcohol')"
   ]
  },
  {
   "cell_type": "code",
   "execution_count": null,
   "id": "0a458a71",
   "metadata": {},
   "outputs": [],
   "source": [
    "# suelen tener escenas de alcohol moderas"
   ]
  },
  {
   "cell_type": "code",
   "execution_count": 32,
   "id": "2a15ae23",
   "metadata": {},
   "outputs": [
    {
     "data": {
      "text/plain": [
       "<seaborn.axisgrid.FacetGrid at 0x16990534a90>"
      ]
     },
     "execution_count": 32,
     "metadata": {},
     "output_type": "execute_result"
    },
    {
     "data": {
      "image/png": "[encoded data removed]",
      "text/plain": [
       "<Figure size 443.375x360 with 1 Axes>"
      ]
     },
     "metadata": {
      "needs_background": "light"
     },
     "output_type": "display_data"
    }
   ],
   "source": [
    "sns.displot(PELICULAS, x ='Rate', kind='kde', hue='Frightening')"
   ]
  },
  {
   "cell_type": "code",
   "execution_count": null,
   "id": "199de077",
   "metadata": {},
   "outputs": [],
   "source": [
    "# suelen tener escenas \"alarmantes\" suaves o moderadas"
   ]
  },
  {
   "cell_type": "markdown",
   "id": "e1adad30",
   "metadata": {},
   "source": [
    "### 2.6 Mapa de calor\n",
    "\n",
    "Crear un mapa de calor con la frecuencia de cada posible pareja de valores de los atributos clasificación (*Certificate*) y género_principal (*Main genre*), teniendo en cuenta solamente las instancias de tipo serie (*Series*)<br>\n",
    "\n",
    "A la vista de los resultados, ¿Cuales son las combinaciones más frecuentes?\n",
    "\n",
    "¿Y para películas (*Film*)?"
   ]
  },
  {
   "cell_type": "code",
   "execution_count": 94,
   "id": "ef9eeb5c",
   "metadata": {},
   "outputs": [
    {
     "data": {
      "text/plain": [
       "<AxesSubplot:xlabel='Main genre', ylabel='Certificate'>"
      ]
     },
     "execution_count": 94,
     "metadata": {},
     "output_type": "execute_result"
    },
    {
     "data": {
      "image/png": "[encoded data removed]",
      "text/plain": [
       "<Figure size 432x288 with 2 Axes>"
      ]
     },
     "metadata": {
      "needs_background": "light"
     },
     "output_type": "display_data"
    }
   ],
   "source": [
    "tabla = pd.crosstab(index=PELICULAS['Certificate'], columns =PELICULAS['Main genre'])\n",
    "#print(tabla)\n",
    "\n",
    "sns.heatmap(tabla, annot=True, fmt='d', linewidths=2)"
   ]
  },
  {
   "cell_type": "code",
   "execution_count": 82,
   "id": "6357675c",
   "metadata": {},
   "outputs": [
    {
     "data": {
      "text/html": [
       "<div>\n",
       "<style scoped>\n",
       "    .dataframe tbody tr th:only-of-type {\n",
       "        vertical-align: middle;\n",
       "    }\n",
       "\n",
       "    .dataframe tbody tr th {\n",
       "        vertical-align: top;\n",
       "    }\n",
       "\n",
       "    .dataframe thead th {\n",
       "        text-align: right;\n",
       "    }\n",
       "</style>\n",
       "<table border=\"1\" class=\"dataframe\">\n",
       "  <thead>\n",
       "    <tr style=\"text-align: right;\">\n",
       "      <th></th>\n",
       "      <th>Date</th>\n",
       "      <th>Rate</th>\n",
       "      <th>Votes</th>\n",
       "      <th>Main genre</th>\n",
       "      <th>Duration</th>\n",
       "      <th>Type</th>\n",
       "      <th>Certificate</th>\n",
       "      <th>Episodes</th>\n",
       "      <th>Nudity</th>\n",
       "      <th>Violence</th>\n",
       "      <th>Profanity</th>\n",
       "      <th>Alcohol</th>\n",
       "      <th>Frightening</th>\n",
       "    </tr>\n",
       "  </thead>\n",
       "  <tbody>\n",
       "    <tr>\n",
       "      <th>0</th>\n",
       "      <td>2021</td>\n",
       "      <td>7.6</td>\n",
       "      <td>107163.0</td>\n",
       "      <td>Action</td>\n",
       "      <td>163.0</td>\n",
       "      <td>Film</td>\n",
       "      <td>PG-13</td>\n",
       "      <td>1.0</td>\n",
       "      <td>Mild</td>\n",
       "      <td>Moderate</td>\n",
       "      <td>Mild</td>\n",
       "      <td>Mild</td>\n",
       "      <td>Moderate</td>\n",
       "    </tr>\n",
       "    <tr>\n",
       "      <th>1</th>\n",
       "      <td>2021</td>\n",
       "      <td>6.3</td>\n",
       "      <td>64375.0</td>\n",
       "      <td>Crime</td>\n",
       "      <td>90.0</td>\n",
       "      <td>Film</td>\n",
       "      <td>R</td>\n",
       "      <td>1.0</td>\n",
       "      <td>None</td>\n",
       "      <td>None</td>\n",
       "      <td>Severe</td>\n",
       "      <td>None</td>\n",
       "      <td>Moderate</td>\n",
       "    </tr>\n",
       "    <tr>\n",
       "      <th>2</th>\n",
       "      <td>2021</td>\n",
       "      <td>6.4</td>\n",
       "      <td>27145.0</td>\n",
       "      <td>Crime</td>\n",
       "      <td>120.0</td>\n",
       "      <td>Film</td>\n",
       "      <td>R</td>\n",
       "      <td>1.0</td>\n",
       "      <td>Moderate</td>\n",
       "      <td>Severe</td>\n",
       "      <td>Severe</td>\n",
       "      <td>Moderate</td>\n",
       "      <td>Moderate</td>\n",
       "    </tr>\n",
       "    <tr>\n",
       "      <th>3</th>\n",
       "      <td>2021</td>\n",
       "      <td>6.4</td>\n",
       "      <td>30443.0</td>\n",
       "      <td>Action</td>\n",
       "      <td>97.0</td>\n",
       "      <td>Film</td>\n",
       "      <td>PG-13</td>\n",
       "      <td>1.0</td>\n",
       "      <td>None</td>\n",
       "      <td>Moderate</td>\n",
       "      <td>Moderate</td>\n",
       "      <td>Mild</td>\n",
       "      <td>Moderate</td>\n",
       "    </tr>\n",
       "    <tr>\n",
       "      <th>4</th>\n",
       "      <td>2021</td>\n",
       "      <td>8.3</td>\n",
       "      <td>84636.0</td>\n",
       "      <td>Action</td>\n",
       "      <td>155.0</td>\n",
       "      <td>Film</td>\n",
       "      <td>PG-13</td>\n",
       "      <td>1.0</td>\n",
       "      <td>None</td>\n",
       "      <td>Moderate</td>\n",
       "      <td>None</td>\n",
       "      <td>Mild</td>\n",
       "      <td>Moderate</td>\n",
       "    </tr>\n",
       "    <tr>\n",
       "      <th>...</th>\n",
       "      <td>...</td>\n",
       "      <td>...</td>\n",
       "      <td>...</td>\n",
       "      <td>...</td>\n",
       "      <td>...</td>\n",
       "      <td>...</td>\n",
       "      <td>...</td>\n",
       "      <td>...</td>\n",
       "      <td>...</td>\n",
       "      <td>...</td>\n",
       "      <td>...</td>\n",
       "      <td>...</td>\n",
       "      <td>...</td>\n",
       "    </tr>\n",
       "    <tr>\n",
       "      <th>6173</th>\n",
       "      <td>2011</td>\n",
       "      <td>3.8</td>\n",
       "      <td>37492.0</td>\n",
       "      <td>Horror</td>\n",
       "      <td>91.0</td>\n",
       "      <td>Film</td>\n",
       "      <td>Not Rated</td>\n",
       "      <td>1.0</td>\n",
       "      <td>Severe</td>\n",
       "      <td>Severe</td>\n",
       "      <td>Severe</td>\n",
       "      <td>Mild</td>\n",
       "      <td>Severe</td>\n",
       "    </tr>\n",
       "    <tr>\n",
       "      <th>6174</th>\n",
       "      <td>1944</td>\n",
       "      <td>8.3</td>\n",
       "      <td>150448.0</td>\n",
       "      <td>Crime</td>\n",
       "      <td>107.0</td>\n",
       "      <td>Film</td>\n",
       "      <td>Passed</td>\n",
       "      <td>1.0</td>\n",
       "      <td>None</td>\n",
       "      <td>Mild</td>\n",
       "      <td>None</td>\n",
       "      <td>Mild</td>\n",
       "      <td>Mild</td>\n",
       "    </tr>\n",
       "    <tr>\n",
       "      <th>6175</th>\n",
       "      <td>2007</td>\n",
       "      <td>7.3</td>\n",
       "      <td>100668.0</td>\n",
       "      <td>Crime</td>\n",
       "      <td>117.0</td>\n",
       "      <td>Film</td>\n",
       "      <td>R</td>\n",
       "      <td>1.0</td>\n",
       "      <td>Severe</td>\n",
       "      <td>Moderate</td>\n",
       "      <td>Severe</td>\n",
       "      <td>Severe</td>\n",
       "      <td>Severe</td>\n",
       "    </tr>\n",
       "    <tr>\n",
       "      <th>6176</th>\n",
       "      <td>2021</td>\n",
       "      <td>6.0</td>\n",
       "      <td>887.0</td>\n",
       "      <td>Comedy</td>\n",
       "      <td>100.0</td>\n",
       "      <td>Film</td>\n",
       "      <td>PG-13</td>\n",
       "      <td>1.0</td>\n",
       "      <td>None</td>\n",
       "      <td>None</td>\n",
       "      <td>Mild</td>\n",
       "      <td>Moderate</td>\n",
       "      <td>None</td>\n",
       "    </tr>\n",
       "    <tr>\n",
       "      <th>6177</th>\n",
       "      <td>2008</td>\n",
       "      <td>6.3</td>\n",
       "      <td>203578.0</td>\n",
       "      <td>Action</td>\n",
       "      <td>105.0</td>\n",
       "      <td>Film</td>\n",
       "      <td>R</td>\n",
       "      <td>1.0</td>\n",
       "      <td>Mild</td>\n",
       "      <td>Severe</td>\n",
       "      <td>Severe</td>\n",
       "      <td>Mild</td>\n",
       "      <td>Moderate</td>\n",
       "    </tr>\n",
       "  </tbody>\n",
       "</table>\n",
       "<p>6178 rows × 13 columns</p>\n",
       "</div>"
      ],
      "text/plain": [
       "      Date  Rate     Votes Main genre  Duration  Type Certificate  Episodes  \\\n",
       "0     2021   7.6  107163.0     Action     163.0  Film       PG-13       1.0   \n",
       "1     2021   6.3   64375.0      Crime      90.0  Film           R       1.0   \n",
       "2     2021   6.4   27145.0      Crime     120.0  Film           R       1.0   \n",
       "3     2021   6.4   30443.0     Action      97.0  Film       PG-13       1.0   \n",
       "4     2021   8.3   84636.0     Action     155.0  Film       PG-13       1.0   \n",
       "...    ...   ...       ...        ...       ...   ...         ...       ...   \n",
       "6173  2011   3.8   37492.0     Horror      91.0  Film   Not Rated       1.0   \n",
       "6174  1944   8.3  150448.0      Crime     107.0  Film      Passed       1.0   \n",
       "6175  2007   7.3  100668.0      Crime     117.0  Film           R       1.0   \n",
       "6176  2021   6.0     887.0     Comedy     100.0  Film       PG-13       1.0   \n",
       "6177  2008   6.3  203578.0     Action     105.0  Film           R       1.0   \n",
       "\n",
       "        Nudity  Violence Profanity   Alcohol Frightening  \n",
       "0         Mild  Moderate      Mild      Mild    Moderate  \n",
       "1         None      None    Severe      None    Moderate  \n",
       "2     Moderate    Severe    Severe  Moderate    Moderate  \n",
       "3         None  Moderate  Moderate      Mild    Moderate  \n",
       "4         None  Moderate      None      Mild    Moderate  \n",
       "...        ...       ...       ...       ...         ...  \n",
       "6173    Severe    Severe    Severe      Mild      Severe  \n",
       "6174      None      Mild      None      Mild        Mild  \n",
       "6175    Severe  Moderate    Severe    Severe      Severe  \n",
       "6176      None      None      Mild  Moderate        None  \n",
       "6177      Mild    Severe    Severe      Mild    Moderate  \n",
       "\n",
       "[6178 rows x 13 columns]"
      ]
     },
     "execution_count": 82,
     "metadata": {},
     "output_type": "execute_result"
    }
   ],
   "source": [
    "PELICULAS"
   ]
  },
  {
   "cell_type": "markdown",
   "id": "d6178dfb",
   "metadata": {},
   "source": [
    "### 2.7 Diagrama de cajas\n",
    "\n",
    "Mostrar un diagrama de cajas para el atributo valoración (*Rates*), en función del tipo de producción (*Type*).\n",
    "\n",
    "Realiza una breve interpretación de las gráficas obtenidas."
   ]
  },
  {
   "cell_type": "code",
   "execution_count": 99,
   "id": "2de90074",
   "metadata": {},
   "outputs": [
    {
     "data": {
      "text/plain": [
       "<AxesSubplot:xlabel='Type', ylabel='Rate'>"
      ]
     },
     "execution_count": 99,
     "metadata": {},
     "output_type": "execute_result"
    },
    {
     "data": {
      "image/png": "[encoded data removed]",
      "text/plain": [
       "<Figure size 432x288 with 1 Axes>"
      ]
     },
     "metadata": {
      "needs_background": "light"
     },
     "output_type": "display_data"
    }
   ],
   "source": [
    "sns.boxplot(x='Type', y='Rate', data=PELICULAS)"
   ]
  },
  {
   "cell_type": "markdown",
   "id": "05e13a8b",
   "metadata": {},
   "source": [
    "### 2.8 Diagrama de violín\n",
    "\n",
    "Mostrar un diagrama de violín para el atributo valoración (*Rates*), en función del tipo del género principal (*Main genre*) y para cada tipo de producción.\n",
    "\n",
    "Realiza una breve interpretación de las gráficas obtenidas."
   ]
  },
  {
   "cell_type": "code",
   "execution_count": null,
   "id": "b9dbf099",
   "metadata": {},
   "outputs": [],
   "source": []
  },
  {
   "cell_type": "markdown",
   "id": "2cd47e34",
   "metadata": {},
   "source": [
    "### 2.9 Escoge una representación gráfica\n",
    "\n",
    "Realiza una representación gráfica que te resulte de interés, y haz una breve interpretación."
   ]
  },
  {
   "cell_type": "code",
   "execution_count": null,
   "id": "04f7151e",
   "metadata": {},
   "outputs": [],
   "source": []
  },
  {
   "cell_type": "markdown",
   "id": "69ff1219",
   "metadata": {},
   "source": [
    "## Ejercicio 3. Codificación de atributos\n",
    "### 3.1. Tipos de atributos\n",
    "\n",
    "A partir de este aparatado trabajaremos solamente con las instancias correspondientes a los tres géneros más frecuentes.\n",
    "Para ello seguiremos los siguientes pasos:\n",
    "\n",
    "- Crear un nuevo dataframe solamente con las instancias de los **tres géneros más frecuentes**\n",
    "- Imprimir los posibles valores de los atributos categóricos"
   ]
  },
  {
   "cell_type": "code",
   "execution_count": null,
   "id": "021dd375",
   "metadata": {},
   "outputs": [],
   "source": []
  },
  {
   "cell_type": "markdown",
   "id": "5867244a",
   "metadata": {},
   "source": [
    "### 3.2. Codificación de los atributos categóricos\n",
    "\n",
    "Realizar una codificación de tipo **label_encoding** para el atributo *Main genre*. La codificación resultante debe asignarle el valor 0 a *Drama*, el valor 1 a *Action* y el valor 2 a *Comedy*. Aunque no parezca ser a priori la codificación más adecuada para este atributo, lo haremos así de cara a poder realizar tareas de predicción sobre él en el apartado siguiente.\n"
   ]
  },
  {
   "cell_type": "code",
   "execution_count": null,
   "id": "8a509419",
   "metadata": {},
   "outputs": [],
   "source": []
  },
  {
   "cell_type": "markdown",
   "id": "36399052",
   "metadata": {},
   "source": [
    "Realizar el tipo de codificación más apropiada para el resto de los atributos categóricos, justificando el tipo de codificación elegida en cada caso."
   ]
  },
  {
   "cell_type": "code",
   "execution_count": null,
   "id": "5af88c2a",
   "metadata": {},
   "outputs": [],
   "source": []
  },
  {
   "cell_type": "markdown",
   "id": "4b78baa7",
   "metadata": {},
   "source": [
    "## Ejercicio 4. Predicción - Clasificación\n",
    "\n",
    "Queremos construir un modelo de predicción para el atributo correspondiente al género principal (*Main genre*). <br>\n",
    "Para ello, seguiremos los siguientes pasos:\n",
    "\n",
    "- Realizar la división en X e y del dataset.\n",
    "- Crear un DataFrame para almacenar los resultados que tenga dos columnas: accuracy, tiempo.\n",
    "- Definir una función experimento que realice un experimento de clasificación, a partir de un estimador concreto. La función devolverá el valor de la medida accuracy y el tiempo empleado, con una validación cruzada de 10 particiones.\n",
    "- Añadir a la tabla de resultados al menos 5 líneas en las que se prueben 5 clasificadores diferentes (o algunos iguales con distinta parametrización)                                                         \n"
   ]
  },
  {
   "cell_type": "code",
   "execution_count": null,
   "id": "56631b5e",
   "metadata": {},
   "outputs": [],
   "source": []
  },
  {
   "cell_type": "markdown",
   "id": "4d235ae8",
   "metadata": {},
   "source": [
    "Muestra mediante un mapa de calor la matriz de confusión correspondiente al mejor modelo.<br>\n",
    "Explica cual es el tipo de error donde se producen el mayor número de errores, así como el tipo de aciertos con el mayor número de aciertos."
   ]
  },
  {
   "cell_type": "code",
   "execution_count": null,
   "id": "a66e3e53",
   "metadata": {},
   "outputs": [],
   "source": []
  }
 ],
 "metadata": {
  "kernelspec": {
   "display_name": "Python 3 (ipykernel)",
   "language": "python",
   "name": "python3"
  },
  "language_info": {
   "codemirror_mode": {
    "name": "ipython",
    "version": 3
   },
   "file_extension": ".py",
   "mimetype": "text/x-python",
   "name": "python",
   "nbconvert_exporter": "python",
   "pygments_lexer": "ipython3",
   "version": "3.8.5"
  }
 },
 "nbformat": 4,
 "nbformat_minor": 5
}
